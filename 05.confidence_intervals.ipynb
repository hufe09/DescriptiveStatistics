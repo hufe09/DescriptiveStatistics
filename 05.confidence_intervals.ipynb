{
 "cells": [
  {
   "cell_type": "markdown",
   "metadata": {},
   "source": [
    "# 置信区间 Confidence Intervals\n"
   ]
  },
  {
   "cell_type": "markdown",
   "metadata": {},
   "source": [
    "## 从抽样分布到置信区间 \n",
    "\n",
    "我们可以使用自助法和抽样分布，构建感兴趣参数的置信区间。 \n",
    "\n",
    "通过找出对感兴趣参数进行最好估计的统计量 (例如样本平均数估算总体平均数或样本平均数的差异估算总体平均数的差异)，我们可以很容易构建感兴趣参数的置信区间。 \n",
    "\n",
    "\n",
    "## 抽样分布与置信区间 \n",
    " \n",
    "\n",
    "在这个视频中，你学习如何使用样本量抽样分布构建置信区间的例子，这个样本量可以最好地估计你感兴趣的参数。在这个例子中，我们使用样本平均高度，估算总体平均高度。 \n",
    "\n",
    "你可以将置信区间理解为 可信度为 95% ，总体平均数 落在你发现的范围内 。 注意根据构建置信区间的目的和每端删除的百分比，百分比和参数都会发生变化。\n",
    "\n",
    "![image](https://raw.githubusercontent.com/hufe09/GitNote-Images/master/Picee/image.pcbtktxqe1s.png)"
   ]
  },
  {
   "cell_type": "markdown",
   "metadata": {},
   "source": [
    "# 建立置信区间 - 总体平均数的置信区间 \n",
    "\n",
    "在之前的视频中，你看到我们如何构建总体平均数的置信区间。为了进行一些练习，你可以采用同样的过程，创建不喝咖啡总体平均高度的置信区间。另外，python notebook 中有一些测试问题，可以确保你结果的准确性。 "
   ]
  },
  {
   "cell_type": "markdown",
   "metadata": {},
   "source": [
    "### 置信区间 - 第一部分\n",
    "\n",
    "首先让我们导入必要的库和数据集。"
   ]
  },
  {
   "cell_type": "code",
   "execution_count": 3,
   "metadata": {},
   "outputs": [],
   "source": [
    "import pandas as pd\n",
    "import numpy as np\n",
    "import matplotlib.pyplot as plt\n",
    "\n",
    "np.random.seed(42)\n",
    "\n",
    "coffee_full = pd.read_csv('datasets/coffee_dataset.csv')\n",
    "coffee_red = coffee_full.sample(200) #this is the only data you might actually get in the real world."
   ]
  },
  {
   "cell_type": "markdown",
   "metadata": {},
   "source": [
    "`1.` 样本中喝咖啡的人的比例是多少？不喝咖啡的人的比例是多少？\n",
    "\n",
    "`2.` 在喝咖啡的人中，他们的平均身高是多少？在不喝咖啡的人中，他们的平均身高是多少？\n",
    "\n",
    "`3.` 模拟来自200个原始样本的200个“新”个体。在该有放回抽样样本（bootstrap sample）中，喝咖啡的人的比例是多少？不喝咖啡的人的比例是多少？\n",
    "\n",
    "`4.` 现在模拟10,000次有放回抽样，并取每个样本中不喝咖啡的人的平均身高。每个有放回抽样样本应该是从200个数据点中取出的第一个样本。绘制分布图，并拉出95％置信区间所需的值。在这个例子中，关于平均数的抽样分布，你发现了什么？\n",
    "\n",
    "`5.`  你的区间是否记录了人群中不喝咖啡的人的实际平均身高？看一看人口中的平均数和95％置信区间提供的两个界限，然后回答下面的最后一个测试题目。"
   ]
  },
  {
   "cell_type": "code",
   "execution_count": 25,
   "metadata": {},
   "outputs": [
    {
     "data": {
      "text/html": [
       "<div>\n",
       "<style scoped>\n",
       "    .dataframe tbody tr th:only-of-type {\n",
       "        vertical-align: middle;\n",
       "    }\n",
       "\n",
       "    .dataframe tbody tr th {\n",
       "        vertical-align: top;\n",
       "    }\n",
       "\n",
       "    .dataframe thead th {\n",
       "        text-align: right;\n",
       "    }\n",
       "</style>\n",
       "<table border=\"1\" class=\"dataframe\">\n",
       "  <thead>\n",
       "    <tr style=\"text-align: right;\">\n",
       "      <th></th>\n",
       "      <th>user_id</th>\n",
       "      <th>age</th>\n",
       "      <th>drinks_coffee</th>\n",
       "      <th>height</th>\n",
       "    </tr>\n",
       "  </thead>\n",
       "  <tbody>\n",
       "    <tr>\n",
       "      <th>2402</th>\n",
       "      <td>2874</td>\n",
       "      <td>&lt;21</td>\n",
       "      <td>True</td>\n",
       "      <td>64.357154</td>\n",
       "    </tr>\n",
       "    <tr>\n",
       "      <th>2864</th>\n",
       "      <td>3670</td>\n",
       "      <td>&gt;=21</td>\n",
       "      <td>True</td>\n",
       "      <td>66.859636</td>\n",
       "    </tr>\n",
       "    <tr>\n",
       "      <th>2167</th>\n",
       "      <td>7441</td>\n",
       "      <td>&lt;21</td>\n",
       "      <td>False</td>\n",
       "      <td>66.659561</td>\n",
       "    </tr>\n",
       "    <tr>\n",
       "      <th>507</th>\n",
       "      <td>2781</td>\n",
       "      <td>&gt;=21</td>\n",
       "      <td>True</td>\n",
       "      <td>70.166241</td>\n",
       "    </tr>\n",
       "    <tr>\n",
       "      <th>1817</th>\n",
       "      <td>2875</td>\n",
       "      <td>&gt;=21</td>\n",
       "      <td>True</td>\n",
       "      <td>71.369120</td>\n",
       "    </tr>\n",
       "  </tbody>\n",
       "</table>\n",
       "</div>"
      ],
      "text/plain": [
       "      user_id   age  drinks_coffee     height\n",
       "2402     2874   <21           True  64.357154\n",
       "2864     3670  >=21           True  66.859636\n",
       "2167     7441   <21          False  66.659561\n",
       "507      2781  >=21           True  70.166241\n",
       "1817     2875  >=21           True  71.369120"
      ]
     },
     "execution_count": 25,
     "metadata": {},
     "output_type": "execute_result"
    }
   ],
   "source": [
    "coffee_red.head()"
   ]
  },
  {
   "cell_type": "code",
   "execution_count": 27,
   "metadata": {},
   "outputs": [
    {
     "data": {
      "text/plain": [
       "(200, 4)"
      ]
     },
     "execution_count": 27,
     "metadata": {},
     "output_type": "execute_result"
    }
   ],
   "source": [
    "coffee_red.shape"
   ]
  },
  {
   "cell_type": "code",
   "execution_count": 28,
   "metadata": {},
   "outputs": [
    {
     "data": {
      "text/plain": [
       "(2974, 4)"
      ]
     },
     "execution_count": 28,
     "metadata": {},
     "output_type": "execute_result"
    }
   ],
   "source": [
    "coffee_full.shape"
   ]
  },
  {
   "cell_type": "code",
   "execution_count": 29,
   "metadata": {},
   "outputs": [
    {
     "data": {
      "text/plain": [
       "0.589778076664425"
      ]
     },
     "execution_count": 29,
     "metadata": {},
     "output_type": "execute_result"
    }
   ],
   "source": [
    "coffee_full['drinks_coffee'].mean()"
   ]
  },
  {
   "cell_type": "code",
   "execution_count": 35,
   "metadata": {},
   "outputs": [
    {
     "data": {
      "text/plain": [
       "0.595"
      ]
     },
     "execution_count": 35,
     "metadata": {},
     "output_type": "execute_result"
    }
   ],
   "source": [
    "coffee_red['drinks_coffee'].mean()"
   ]
  },
  {
   "cell_type": "code",
   "execution_count": 39,
   "metadata": {},
   "outputs": [
    {
     "data": {
      "text/plain": [
       "0.405"
      ]
     },
     "execution_count": 39,
     "metadata": {},
     "output_type": "execute_result"
    }
   ],
   "source": [
    "1- coffee_red['drinks_coffee'].mean()"
   ]
  },
  {
   "cell_type": "code",
   "execution_count": 31,
   "metadata": {},
   "outputs": [
    {
     "data": {
      "text/plain": [
       "68.11962990858618"
      ]
     },
     "execution_count": 31,
     "metadata": {},
     "output_type": "execute_result"
    }
   ],
   "source": [
    "coffee_red.query('drinks_coffee == True')['height'].mean()"
   ]
  },
  {
   "cell_type": "code",
   "execution_count": 32,
   "metadata": {},
   "outputs": [
    {
     "data": {
      "text/plain": [
       "66.78492279927877"
      ]
     },
     "execution_count": 32,
     "metadata": {},
     "output_type": "execute_result"
    }
   ],
   "source": [
    "coffee_red.query('drinks_coffee == False')['height'].mean()"
   ]
  },
  {
   "cell_type": "code",
   "execution_count": 4,
   "metadata": {},
   "outputs": [
    {
     "data": {
      "text/html": [
       "<div>\n",
       "<style scoped>\n",
       "    .dataframe tbody tr th:only-of-type {\n",
       "        vertical-align: middle;\n",
       "    }\n",
       "\n",
       "    .dataframe tbody tr th {\n",
       "        vertical-align: top;\n",
       "    }\n",
       "\n",
       "    .dataframe thead th {\n",
       "        text-align: right;\n",
       "    }\n",
       "</style>\n",
       "<table border=\"1\" class=\"dataframe\">\n",
       "  <thead>\n",
       "    <tr style=\"text-align: right;\">\n",
       "      <th></th>\n",
       "      <th>user_id</th>\n",
       "      <th>age</th>\n",
       "      <th>drinks_coffee</th>\n",
       "      <th>height</th>\n",
       "    </tr>\n",
       "  </thead>\n",
       "  <tbody>\n",
       "    <tr>\n",
       "      <th>469</th>\n",
       "      <td>6051</td>\n",
       "      <td>&gt;=21</td>\n",
       "      <td>True</td>\n",
       "      <td>68.717822</td>\n",
       "    </tr>\n",
       "    <tr>\n",
       "      <th>2635</th>\n",
       "      <td>3405</td>\n",
       "      <td>&gt;=21</td>\n",
       "      <td>True</td>\n",
       "      <td>69.015309</td>\n",
       "    </tr>\n",
       "    <tr>\n",
       "      <th>1898</th>\n",
       "      <td>7983</td>\n",
       "      <td>&lt;21</td>\n",
       "      <td>False</td>\n",
       "      <td>66.418863</td>\n",
       "    </tr>\n",
       "    <tr>\n",
       "      <th>2795</th>\n",
       "      <td>6606</td>\n",
       "      <td>&gt;=21</td>\n",
       "      <td>True</td>\n",
       "      <td>69.914371</td>\n",
       "    </tr>\n",
       "    <tr>\n",
       "      <th>167</th>\n",
       "      <td>4610</td>\n",
       "      <td>&gt;=21</td>\n",
       "      <td>True</td>\n",
       "      <td>66.670203</td>\n",
       "    </tr>\n",
       "  </tbody>\n",
       "</table>\n",
       "</div>"
      ],
      "text/plain": [
       "      user_id   age  drinks_coffee     height\n",
       "469      6051  >=21           True  68.717822\n",
       "2635     3405  >=21           True  69.015309\n",
       "1898     7983   <21          False  66.418863\n",
       "2795     6606  >=21           True  69.914371\n",
       "167      4610  >=21           True  66.670203"
      ]
     },
     "execution_count": 4,
     "metadata": {},
     "output_type": "execute_result"
    }
   ],
   "source": [
    "coffee_red_2 = coffee_full.sample(200)\n",
    "coffee_red_2.head()"
   ]
  },
  {
   "cell_type": "code",
   "execution_count": 5,
   "metadata": {
    "scrolled": false
   },
   "outputs": [
    {
     "data": {
      "text/plain": [
       "0.58"
      ]
     },
     "execution_count": 5,
     "metadata": {},
     "output_type": "execute_result"
    }
   ],
   "source": [
    "coffee_red_2['drinks_coffee'].mean()"
   ]
  },
  {
   "cell_type": "code",
   "execution_count": 6,
   "metadata": {},
   "outputs": [],
   "source": [
    "boot_sample = []\n",
    "for i in np.arange(200):\n",
    "    coffee_blue = coffee_full['drinks_coffee'].sample(200, replace=True).mean()\n",
    "    boot_sample.append(coffee_blue)"
   ]
  },
  {
   "cell_type": "code",
   "execution_count": 7,
   "metadata": {
    "scrolled": true
   },
   "outputs": [
    {
     "data": {
      "text/plain": [
       "(0.48298499999999994, 0.5144525)"
      ]
     },
     "execution_count": 7,
     "metadata": {},
     "output_type": "execute_result"
    }
   ],
   "source": [
    "np.percentile(boot_sample, 0.05), np.percentile(boot_sample, 0.95)"
   ]
  },
  {
   "cell_type": "code",
   "execution_count": 8,
   "metadata": {},
   "outputs": [
    {
     "data": {
      "image/png": "[encoded data removed]",
      "text/plain": [
       "<Figure size 432x288 with 1 Axes>"
      ]
     },
     "metadata": {
      "needs_background": "light"
     },
     "output_type": "display_data"
    }
   ],
   "source": [
    "plt.hist(boot_sample);"
   ]
  },
  {
   "cell_type": "code",
   "execution_count": 9,
   "metadata": {},
   "outputs": [
    {
     "name": "stderr",
     "output_type": "stream",
     "text": [
      "/opt/conda/lib/python3.7/site-packages/ipykernel_launcher.py:5: FutureWarning: Sorting because non-concatenation axis is not aligned. A future version\n",
      "of pandas will change to not sort by default.\n",
      "\n",
      "To accept the future behavior, pass 'sort=False'.\n",
      "\n",
      "To retain the current behavior and silence the warning, pass 'sort=True'.\n",
      "\n",
      "  \"\"\"\n"
     ]
    }
   ],
   "source": [
    "boot_sample = pd.DataFrame([])\n",
    "for i in np.arange(100):\n",
    "    coffee_white = coffee_full[['drinks_coffee', 'height']].sample(200, replace=True)\\\n",
    "                   .query('drinks_coffee == False').iloc[0]\n",
    "    boot_sample = pd.concat([boot_sample, coffee_white], axis=1)"
   ]
  },
  {
   "cell_type": "code",
   "execution_count": 11,
   "metadata": {},
   "outputs": [
    {
     "data": {
      "text/plain": [
       "66.34347719736769"
      ]
     },
     "execution_count": 11,
     "metadata": {},
     "output_type": "execute_result"
    }
   ],
   "source": [
    "boot =(boot_sample.T)['height']\n",
    "boot.mean()"
   ]
  },
  {
   "cell_type": "code",
   "execution_count": 12,
   "metadata": {},
   "outputs": [
    {
     "data": {
      "text/plain": [
       "(59.93826276891755, 59.97583446165254)"
      ]
     },
     "execution_count": 12,
     "metadata": {},
     "output_type": "execute_result"
    }
   ],
   "source": [
    "np.percentile(boot, 0.025), np.percentile(boot, 0.975)"
   ]
  },
  {
   "cell_type": "markdown",
   "metadata": {},
   "source": [
    "![image](https://raw.githubusercontent.com/hufe09/GitNote-Images/master/Picee/image.jfdjqvcu4.png)\n",
    "![image](https://raw.githubusercontent.com/hufe09/GitNote-Images/master/Picee/image.rhe55a635js.png)\n",
    "![image](https://raw.githubusercontent.com/hufe09/GitNote-Images/master/Picee/image.jnvakhssphg.png)\n",
    "![image](https://raw.githubusercontent.com/hufe09/GitNote-Images/master/Picee/image.sjllq8179ho.png)"
   ]
  },
  {
   "cell_type": "markdown",
   "metadata": {},
   "source": [
    "# 均数差 Difference In Means\n",
    "\n",
    "在这个视频中，你为喝咖啡人群和不喝咖啡人群平均高度的差异，构建了置信区间。这个区间置信度为 95%。由于差异不能不含 0，因此建议与不喝咖啡人群相比，喝咖啡的总体平均高度确实存在差异。 \n",
    "\n",
    "具体说来，在给定区间 0.59 至 2.37 英寸之间， 与不喝咖啡人群相比，喝咖啡人群的平均高度差异，可信度为 95% 。 \n",
    "\n",
    "注意你构建的最后一个置信区间中措辞的相似度。高亮部分表示可以改变你结论的两部分： \n",
    "\n",
    "- 置信度。 \n",
    "\n",
    "- 你在区间中采集的参数。 "
   ]
  },
  {
   "cell_type": "code",
   "execution_count": 13,
   "metadata": {},
   "outputs": [
    {
     "data": {
      "text/plain": [
       "Index(['user_id', 'age', 'drinks_coffee', 'height'], dtype='object')"
      ]
     },
     "execution_count": 13,
     "metadata": {},
     "output_type": "execute_result"
    }
   ],
   "source": [
    "import pandas as pd\n",
    "import numpy as np\n",
    "import matplotlib.pyplot as plt\n",
    "\n",
    "%matplotlib inline\n",
    "np.random.seed(42)\n",
    "\n",
    "full_data = pd.read_csv('datasets/coffee_dataset.csv')\n",
    "sample_data = full_data.sample(200)\n",
    "sample_data.columns"
   ]
  },
  {
   "cell_type": "markdown",
   "metadata": {},
   "source": [
    "`1.` 对于10,000次迭代，自助法（bootstrap）会对你的样本数据进行抽样，计算喝咖啡和不喝咖啡的人的平均身高的差异。使用你的抽样分布建立一个99％的置信区间。根据你的区间开始回答下面的第一个测试题目。\n",
    "\n",
    "`2.` 对于10,000次迭代，自助法会对样本数据进行抽样，计算21岁以上和21岁以下的平均身高的差异。使用你的抽样分布构建一个99％的置信区间。根据你的区间来完成回答下面的第一个测试题目。\n",
    "\n",
    "`3.` 对于10,000次迭代，自助法会对你的样本数据进行抽样，计算出21岁 **以下** 个体的喝咖啡的人的平均身高和不喝咖啡的人的平均身高之间的 **差异** 。使用你的抽样分布，建立一个95％的置信区间。根据你的区间来回答下面的第二个测试题目。\n",
    "\n",
    "`4.` 对于10,000次迭代，自助法会对你的样本数据进行抽样，计算出21岁 **以上** 个体的喝咖啡的人的平均身高和不喝咖啡的人的平均身高之间的 **差异** 。使用你的抽样分布，建立一个95％的置信区间。根据你的区间来回答下面的第二个测试题目以及下列问题。"
   ]
  },
  {
   "cell_type": "code",
   "execution_count": 14,
   "metadata": {},
   "outputs": [
    {
     "data": {
      "text/plain": [
       "1.9732964788157545"
      ]
     },
     "execution_count": 14,
     "metadata": {},
     "output_type": "execute_result"
    }
   ],
   "source": [
    "#  1\n",
    "bootsample = sample_data.sample(200, replace=True)\n",
    "mean_coff = bootsample[bootsample['drinks_coffee'] == True]['height'].mean()\n",
    "mean_nocoff = bootsample[bootsample['drinks_coffee'] == False]['height'].mean()\n",
    "mean_coff - mean_nocoff"
   ]
  },
  {
   "cell_type": "code",
   "execution_count": 15,
   "metadata": {},
   "outputs": [
    {
     "data": {
      "text/html": [
       "<div>\n",
       "<style scoped>\n",
       "    .dataframe tbody tr th:only-of-type {\n",
       "        vertical-align: middle;\n",
       "    }\n",
       "\n",
       "    .dataframe tbody tr th {\n",
       "        vertical-align: top;\n",
       "    }\n",
       "\n",
       "    .dataframe thead th {\n",
       "        text-align: right;\n",
       "    }\n",
       "</style>\n",
       "<table border=\"1\" class=\"dataframe\">\n",
       "  <thead>\n",
       "    <tr style=\"text-align: right;\">\n",
       "      <th></th>\n",
       "      <th>user_id</th>\n",
       "      <th>age</th>\n",
       "      <th>drinks_coffee</th>\n",
       "      <th>height</th>\n",
       "    </tr>\n",
       "  </thead>\n",
       "  <tbody>\n",
       "    <tr>\n",
       "      <th>93</th>\n",
       "      <td>2423</td>\n",
       "      <td>&gt;=21</td>\n",
       "      <td>True</td>\n",
       "      <td>69.540052</td>\n",
       "    </tr>\n",
       "    <tr>\n",
       "      <th>1239</th>\n",
       "      <td>4172</td>\n",
       "      <td>&gt;=21</td>\n",
       "      <td>True</td>\n",
       "      <td>71.011189</td>\n",
       "    </tr>\n",
       "    <tr>\n",
       "      <th>1756</th>\n",
       "      <td>5529</td>\n",
       "      <td>&gt;=21</td>\n",
       "      <td>True</td>\n",
       "      <td>67.857414</td>\n",
       "    </tr>\n",
       "    <tr>\n",
       "      <th>879</th>\n",
       "      <td>2639</td>\n",
       "      <td>&gt;=21</td>\n",
       "      <td>True</td>\n",
       "      <td>68.445535</td>\n",
       "    </tr>\n",
       "    <tr>\n",
       "      <th>944</th>\n",
       "      <td>4975</td>\n",
       "      <td>&gt;=21</td>\n",
       "      <td>False</td>\n",
       "      <td>74.276003</td>\n",
       "    </tr>\n",
       "  </tbody>\n",
       "</table>\n",
       "</div>"
      ],
      "text/plain": [
       "      user_id   age  drinks_coffee     height\n",
       "93       2423  >=21           True  69.540052\n",
       "1239     4172  >=21           True  71.011189\n",
       "1756     5529  >=21           True  67.857414\n",
       "879      2639  >=21           True  68.445535\n",
       "944      4975  >=21          False  74.276003"
      ]
     },
     "execution_count": 15,
     "metadata": {},
     "output_type": "execute_result"
    }
   ],
   "source": [
    "bootsample.head()"
   ]
  },
  {
   "cell_type": "code",
   "execution_count": 16,
   "metadata": {},
   "outputs": [],
   "source": [
    "diffs = []\n",
    "for _ in range(10000):\n",
    "    bootsample = sample_data.sample(200, replace=True)\n",
    "    mean_coff = bootsample[bootsample['drinks_coffee'] == True]['height'].mean()\n",
    "    mean_nocoff = bootsample[bootsample['drinks_coffee'] == False]['height'].mean()\n",
    "    diffs.append(mean_coff - mean_nocoff)"
   ]
  },
  {
   "cell_type": "code",
   "execution_count": 17,
   "metadata": {},
   "outputs": [
    {
     "data": {
      "text/plain": [
       "(array([  24.,  109.,  546., 1516., 2623., 2826., 1664.,  568.,  106.,\n",
       "          18.]),\n",
       " array([-0.43028277, -0.07929544,  0.2716919 ,  0.62267923,  0.97366656,\n",
       "         1.3246539 ,  1.67564123,  2.02662857,  2.3776159 ,  2.72860323,\n",
       "         3.07959057]),\n",
       " <a list of 10 Patch objects>)"
      ]
     },
     "execution_count": 17,
     "metadata": {},
     "output_type": "execute_result"
    },
    {
     "data": {
      "image/png": "[encoded data removed]",
      "text/plain": [
       "<Figure size 432x288 with 1 Axes>"
      ]
     },
     "metadata": {
      "needs_background": "light"
     },
     "output_type": "display_data"
    }
   ],
   "source": [
    "plt.hist(diffs)"
   ]
  },
  {
   "cell_type": "code",
   "execution_count": 18,
   "metadata": {},
   "outputs": [
    {
     "data": {
      "text/plain": [
       "(0.10258900080921124, 2.538833370796657)"
      ]
     },
     "execution_count": 18,
     "metadata": {},
     "output_type": "execute_result"
    }
   ],
   "source": [
    "np.percentile(diffs, .5), np.percentile(diffs, 99.5)"
   ]
  },
  {
   "cell_type": "code",
   "execution_count": 19,
   "metadata": {},
   "outputs": [],
   "source": [
    "# 2\n",
    "diffs_21 = []\n",
    "for _ in range(10000):\n",
    "    bootsample = sample_data.sample(200, replace=True)\n",
    "    mean_beyond_21 = bootsample[bootsample.age == '>=21']['height'].mean()\n",
    "    mean_under_21 = bootsample[bootsample.age == '<21']['height'].mean()\n",
    "    diffs_21.append(mean_beyond_21 - mean_under_21)\n",
    "    "
   ]
  },
  {
   "cell_type": "code",
   "execution_count": 20,
   "metadata": {},
   "outputs": [
    {
     "data": {
      "text/plain": [
       "(array([   8.,   47.,  329., 1196., 2589., 3084., 1902.,  714.,  117.,\n",
       "          14.]),\n",
       " array([2.84743507, 3.11400025, 3.38056542, 3.64713059, 3.91369577,\n",
       "        4.18026094, 4.44682611, 4.71339129, 4.97995646, 5.24652163,\n",
       "        5.51308681]),\n",
       " <a list of 10 Patch objects>)"
      ]
     },
     "execution_count": 20,
     "metadata": {},
     "output_type": "execute_result"
    },
    {
     "data": {
      "image/png": "[encoded data removed]",
      "text/plain": [
       "<Figure size 432x288 with 1 Axes>"
      ]
     },
     "metadata": {
      "needs_background": "light"
     },
     "output_type": "display_data"
    }
   ],
   "source": [
    "plt.hist(diffs_21)"
   ]
  },
  {
   "cell_type": "code",
   "execution_count": 21,
   "metadata": {},
   "outputs": [
    {
     "data": {
      "text/plain": [
       "(3.5754196021207765, 4.8942324635943075)"
      ]
     },
     "execution_count": 21,
     "metadata": {},
     "output_type": "execute_result"
    }
   ],
   "source": [
    "np.percentile(diffs_21, 2.5), np.percentile(diffs_21, 97.5)"
   ]
  },
  {
   "cell_type": "code",
   "execution_count": 22,
   "metadata": {},
   "outputs": [],
   "source": [
    "diffs_21 = []\n",
    "for _ in range(10000):\n",
    "    bootsample = sample_data.sample(200, replace=True)\n",
    "    mean_beyond_21 = bootsample[(bootsample.age == '>=21')&(bootsample.drinks_coffee == True)]['height'].mean()\n",
    "    mean_under_21 = bootsample[(bootsample.age == '<21')&(bootsample.drinks_coffee == False)]['height'].mean()\n",
    "    diffs_21.append(mean_beyond_21 - mean_under_21)"
   ]
  },
  {
   "cell_type": "code",
   "execution_count": 23,
   "metadata": {},
   "outputs": [
    {
     "data": {
      "text/plain": [
       "(array([  13.,   76.,  468., 1543., 2691., 2726., 1681.,  629.,  152.,\n",
       "          21.]),\n",
       " array([1.89288625, 2.19030438, 2.48772252, 2.78514066, 3.0825588 ,\n",
       "        3.37997694, 3.67739508, 3.97481321, 4.27223135, 4.56964949,\n",
       "        4.86706763]),\n",
       " <a list of 10 Patch objects>)"
      ]
     },
     "execution_count": 23,
     "metadata": {},
     "output_type": "execute_result"
    },
    {
     "data": {
      "image/png": "[encoded data removed]",
      "text/plain": [
       "<Figure size 432x288 with 1 Axes>"
      ]
     },
     "metadata": {
      "needs_background": "light"
     },
     "output_type": "display_data"
    }
   ],
   "source": [
    "plt.hist(diffs_21)"
   ]
  },
  {
   "cell_type": "markdown",
   "metadata": {},
   "source": [
    "![image](https://raw.githubusercontent.com/hufe09/GitNote-Images/master/Picee/image.1ubrutmhdc5.png)\n",
    "![image](https://raw.githubusercontent.com/hufe09/GitNote-Images/master/Picee/image.qb7dwya9bb.png)"
   ]
  },
  {
   "cell_type": "markdown",
   "metadata": {},
   "source": [
    "# 置信区间的应用 \n",
    "\n",
    "虽然你对比了喝咖啡人群与不喝咖啡人群的平均高度，有些其他应用也可以用于对比两组的平均数。 \n",
    "\n",
    "A/B 测试对全球企业是最重要的内容之一。通过这个技巧，你可以改变网页布局的一些内容，了解它如何影响用户。理想情况下，你需要提供一个页面，可以实现更多点击量、更高收益和/或更高的用户满意度。\n",
    "\n",
    "\n",
    "\n"
   ]
  },
  {
   "cell_type": "markdown",
   "metadata": {},
   "source": [
    "# 统计显著性与实际显著性 \n",
    "\n",
    "\n",
    "字幕中现实意义应为**实际显著性——Practical significance**；统计意义应为**统计显著性——statistical significance** \n",
    "\n",
    "这里你掌握了 **实际** 和 **统计** 意义。 \n",
    "\n",
    "使用置信区间和假设检验，你能够在做决策时提供 **统计显著性**。 \n",
    "\n",
    "然而，做决策时考虑 **实际显著性** 同样很重要。 实际显著性 考虑到所处情况的其他因素，假设检验或置信空间的结果可能不会直接考虑到这种情况。**空间、时间 或 金钱** 等约束条件对商业决定很重要。但是可能不会在统计测试中直接考虑这些因素。\n",
    "\n",
    "![image](https://raw.githubusercontent.com/hufe09/GitNote-Images/master/Picee/image.uhbiikiq0j8.png)"
   ]
  },
  {
   "cell_type": "markdown",
   "metadata": {},
   "source": [
    "# 传统置信区间方法 \n",
    "在这个视频中，你通过使用这堂课贯穿始终的自助法，构建 python，对比了计算均数差的传统方法。 \n",
    "\n",
    "![image](https://raw.githubusercontent.com/hufe09/GitNote-Images/master/Picee/image.fm9ldxtzjop.png)\n",
    "\n",
    "样本容量较大，最终相似性越高。对于较小的样本容量，使用传统方法可以产生区间不正确的设想。样本容量较小，也不适合自助法，因为可能会因为无法较好地展现整个总体，所以产生错误结果。 "
   ]
  },
  {
   "cell_type": "code",
   "execution_count": 8,
   "metadata": {},
   "outputs": [],
   "source": [
    "import pandas as pd\n",
    "import numpy as np\n",
    "import matplotlib.pyplot as plt\n",
    "\n",
    "np.random.seed(42)\n",
    "\n",
    "coffee_full = pd.read_csv('datasets/confidence_intervals_dataset/coffee_dataset.csv')\n",
    "coffee_red = coffee_full.sample(200) #this is the only data you might actually get in the real world."
   ]
  },
  {
   "cell_type": "markdown",
   "metadata": {},
   "source": [
    "**自助抽样法 置信区间**"
   ]
  },
  {
   "cell_type": "code",
   "execution_count": 19,
   "metadata": {},
   "outputs": [
    {
     "name": "stdout",
     "output_type": "stream",
     "text": [
      "CPU times: user 3.92 ms, sys: 0 ns, total: 3.92 ms\n",
      "Wall time: 3.93 ms\n"
     ]
    },
    {
     "data": {
      "text/plain": [
       "(0.4061301359510232, 2.247567281041768)"
      ]
     },
     "execution_count": 19,
     "metadata": {},
     "output_type": "execute_result"
    }
   ],
   "source": [
    "diff = []\n",
    "\n",
    "for _ in range(10000):\n",
    "    bootsample = coffee_red.sample(200, replace=True)\n",
    "    mean_coffee = bootsample[bootsample['drinks_coffee'] == True]['height'].mean()\n",
    "    mean_nocoffee = bootsample[bootsample['drinks_coffee'] == False]['height'].mean()\n",
    "    diff.append(mean_coffee - mean_nocoffee)\n",
    "%time np.percentile(diff, 2.5), np.percentile(diff, 97.5)"
   ]
  },
  {
   "cell_type": "markdown",
   "metadata": {},
   "source": [
    "**T检验的 传统嵌入法 置信区间**"
   ]
  },
  {
   "cell_type": "code",
   "execution_count": 18,
   "metadata": {
    "scrolled": true
   },
   "outputs": [
    {
     "name": "stdout",
     "output_type": "stream",
     "text": [
      "CPU times: user 636 µs, sys: 5 µs, total: 641 µs\n",
      "Wall time: 511 µs\n"
     ]
    },
    {
     "data": {
      "text/plain": [
       "(0.39600106159185644, 2.273413157022891)"
      ]
     },
     "execution_count": 18,
     "metadata": {},
     "output_type": "execute_result"
    }
   ],
   "source": [
    "import statsmodels.stats.api as sms\n",
    "\n",
    "x1 = coffee_red[coffee_red['drinks_coffee'] == True]['height']\n",
    "x2 = coffee_red[coffee_red['drinks_coffee'] == False]['height']\n",
    "\n",
    "cm=sms.CompareMeans(sms.DescrStatsW(x1), sms.DescrStatsW(x2))\n",
    "%time cm.tconfint_diff(usevar = 'unequal')"
   ]
  },
  {
   "cell_type": "markdown",
   "metadata": {},
   "source": [
    "注意：自助抽样法和传统嵌入法的区间，几乎完全相同"
   ]
  },
  {
   "cell_type": "markdown",
   "metadata": {},
   "source": [
    "\n",
    "# 置信区间的其他相关语言 \n",
    "\n",
    "\n",
    "了解样本容量和置信度与最终分析后置信区间的关系，这是非常重要的。 \n",
    "\n",
    "假设你可以控制分析中其他所有条目： \n",
    "\n",
    "- 增加样本容量，会降低置信区间的宽度。 \n",
    "\n",
    "- 增加置信度 (如 95% 增加到 99%) 会增加置信区间的宽度。 \n",
    "\n",
    "你注意到可以计算： \n",
    "\n",
    "- **置信区间** 宽度(The confidence interval width)，作为置信区间上限与下限的差异。 \n",
    "\n",
    "- **误差范围** (The margin of error) 是置信区间宽度的一半，通过对样本估计值的加减，达到置信区间的最终结果。 \n",
    "\n",
    "![image](https://raw.githubusercontent.com/hufe09/GitNote-Images/master/Picee/image.g2ryc1u26r.png)\n"
   ]
  },
  {
   "cell_type": "markdown",
   "metadata": {},
   "source": [
    "![image](https://raw.githubusercontent.com/hufe09/GitNote-Images/master/Picee/image.n8k2troqilq.png)\n",
    "![image](https://raw.githubusercontent.com/hufe09/GitNote-Images/master/Picee/image.w6qenc1jx1.png)"
   ]
  },
  {
   "cell_type": "markdown",
   "metadata": {},
   "source": [
    "# 置信区间的正确解读 \n",
    "\n",
    "\n",
    "## 置信区间 (和假设检验) 与机器学习 \n",
    "\n",
    "置信区间采用综合方法，基于数据得出结论，因为这些测试旨在理解总体的参数 (即总体数值的集合)。 \n",
    "\n",
    "另外，机器学习采用个别方法得出结论，因为通过每个单独数据点预测结果。 \n",
    "\n",
    "在这个课程的最后一堂课中，你将会学习机器学习两种最基础的方法：**线性** 回归和 **逻辑** 回归。 "
   ]
  },
  {
   "cell_type": "markdown",
   "metadata": {},
   "source": [
    "![image](https://raw.githubusercontent.com/hufe09/GitNote-Images/master/Picee/image.jrlvh0zo23.png)"
   ]
  },
  {
   "cell_type": "markdown",
   "metadata": {},
   "source": [
    "# 总结 \n",
    "\n",
    "在这节课中，你学习到了： \n",
    "\n",
    "1. 如何利用自助法和抽样分布的知识，创建任一总体参数的置信区间。 \n",
    "\n",
    "2. 学习如何构建总体平均数和均数差的置信区间，但实际上可以对你感兴趣的任何参数采取相同过程。 \n",
    "\n",
    "3. 学习如何使用 python 嵌入函数构建置信区间，不过这依赖于中心极限定理等假设。 \n",
    "\n",
    "4. 学习 **统计意义** 和 **现实意义** 的区别。 \n",
    "\n",
    "5. 最后学习了置信区间的其他相关语言，如 **误差范围** 和 **置信区间宽度**，以及如何正确解读置信区间。记住，置信区间是针对总体中的 参数，而不是针对个别观测。 \n",
    "\n",
    " \n"
   ]
  }
 ],
 "metadata": {
  "kernelspec": {
   "display_name": "Python 3",
   "language": "python",
   "name": "python3"
  },
  "language_info": {
   "codemirror_mode": {
    "name": "ipython",
    "version": 3
   },
   "file_extension": ".py",
   "mimetype": "text/x-python",
   "name": "python",
   "nbconvert_exporter": "python",
   "pygments_lexer": "ipython3",
   "version": "3.7.3"
  },
  "toc": {
   "base_numbering": 1,
   "nav_menu": {},
   "number_sections": true,
   "sideBar": true,
   "skip_h1_title": false,
   "title_cell": "Table of Contents",
   "title_sidebar": "Contents",
   "toc_cell": false,
   "toc_position": {
    "height": "calc(100% - 180px)",
    "left": "10px",
    "top": "150px",
    "width": "184.188px"
   },
   "toc_section_display": true,
   "toc_window_display": true
  },
  "varInspector": {
   "cols": {
    "lenName": 16,
    "lenType": 16,
    "lenVar": 40
   },
   "kernels_config": {
    "python": {
     "delete_cmd_postfix": "",
     "delete_cmd_prefix": "del ",
     "library": "var_list.py",
     "varRefreshCmd": "print(var_dic_list())"
    },
    "r": {
     "delete_cmd_postfix": ") ",
     "delete_cmd_prefix": "rm(",
     "library": "var_list.r",
     "varRefreshCmd": "cat(var_dic_list()) "
    }
   },
   "types_to_exclude": [
    "module",
    "function",
    "builtin_function_or_method",
    "instance",
    "_Feature"
   ],
   "window_display": false
  }
 },
 "nbformat": 4,
 "nbformat_minor": 2
}
