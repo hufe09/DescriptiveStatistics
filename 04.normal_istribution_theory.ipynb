{
 "cells": [
  {
   "cell_type": "markdown",
   "metadata": {},
   "source": [
    "# Normal Distribution Theory 正态分布理论"
   ]
  },
  {
   "cell_type": "markdown",
   "metadata": {},
   "source": [
    "\n",
    "![image](https://raw.githubusercontent.com/hufe09/GitNote-Images/master/Picee/image.6m1us7k9oc.png)\n",
    "\n"
   ]
  },
  {
   "cell_type": "markdown",
   "metadata": {},
   "source": [
    "#  Central Limit Theorem 中心极限定理\n",
    "![image](https://raw.githubusercontent.com/hufe09/GitNote-Images/master/Picee/image.rpsnn7gugme.png)\n",
    "\n",
    "- 对于一次硬币翻转:计算翻转成为正面概率的公式是什么？ \n",
    "- 对于许多掷硬币来说:计算给定次数的掷硬币是正面的概率的公式是什么？ \n",
    "- 对于无限多次翻转:计算给定翻转比例为头部的概率的公式是什么？"
   ]
  },
  {
   "cell_type": "markdown",
   "metadata": {},
   "source": [
    "# 采样分布和中心极限定理 Sampling distributions and the Central Limit Theorem"
   ]
  },
  {
   "cell_type": "markdown",
   "metadata": {},
   "source": [
    "推论统计 \n",
    "\n",
    "为了确保你能理解推论统计相关理论。接下来的 4 个概念旨在区分 描述统计 与 推论统计。在后面课程中将要讲授把 推论统计 技巧应用到数据中。 \n",
    "\n",
    "从概率到统计 \n",
    "\n",
    "各种课程开始围绕数据展开，而不是以概率为中心，这样你可以应用理论。 \n",
    "\n",
    "通常我们通过模拟，利用统计学，验证概率的结论。因此模拟 (类似于你之前完成的 python 课程) 将会成为我们接下来展示数学理论的主要内容。 "
   ]
  },
  {
   "cell_type": "markdown",
   "metadata": {},
   "source": [
    "## 描述统计 \n",
    "\n",
    "描述统计 `Descriptive statistics`是用来描述收集的数据。 \n",
    "\n",
    " \n",
    " \n",
    "\n",
    "## 推论统计 \n",
    "\n",
    "推论统计`Inferential Statistics` 在于使用我们收集的数据对更大的总体数据得出结论。 \n",
    "\n",
    "我们通过具体的例子了解了： \n",
    "\n",
    "- **总体 Population**—— 我们想要研究的整个群体。 \n",
    "\n",
    "- **参数 Parameter**—— 描述总体的数值摘要 \n",
    "\n",
    "- **样本 sample**  —— 总体的子集 \n",
    "\n",
    "- **统计量 Statistic** —— 描述样本的数值摘要 \n"
   ]
  },
  {
   "cell_type": "markdown",
   "metadata": {},
   "source": [
    "![image](https://raw.githubusercontent.com/hufe09/GitNote-Images/master/Picee/image.ps3oc1xr57k.png)"
   ]
  },
  {
   "cell_type": "markdown",
   "metadata": {},
   "source": [
    "# 抽样分布简介\n",
    "为了更好地理解抽样分布的概念，让我们先用 python 语言做一些练习。\n",
    "\n",
    "下面是一个数组，代表我们在之前的视频中看到的学员。其中，1代表喝咖啡的学生，0代表不喝咖啡的学生。"
   ]
  },
  {
   "cell_type": "code",
   "execution_count": 1,
   "metadata": {},
   "outputs": [],
   "source": [
    "import numpy as np\n",
    "np.random.seed(42)\n",
    "\n",
    "students = np.array(\n",
    "    [1, 0, 1, 1, 1, 1, 0, 0, 0, 0, 1, 1, 1, 1, 1, 1, 1, 1, 1, 1, 0])"
   ]
  },
  {
   "cell_type": "markdown",
   "metadata": {},
   "source": [
    "`1.` 计算出上述数组中喝咖啡的学生的比例，并将此值存储在变量 **p** 中。\n",
    "\n",
    "`2.` 使用 numpy 的 **random.choice** 模拟从 `students` 数组中进行5次取样。喝咖啡学员样本的比例是多少？ \n",
    "\n",
    "`3.` 重复上述步骤，再另外获取10,000个比例值，其中每个样本的大小为5。把这些数值存储在 `sample_props` 变量中。\n",
    "\n",
    "`4.` 这10，000个比例值的平均比例值是多少？该值通常被称为 **抽样分布均值** 。\n",
    "\n",
    "`5.` 21个原始数据值的方差和标准差分别是多少？\n",
    "\n",
    "`6.` 你获取的10000个比例值的方差和标准差分别是多少？\n",
    "\n",
    "`7.` 计算 p(1-p)，你的哪个答案与它最接近？ \n",
    "\n",
    "`8.` 计算 p(1-p)/n，你的哪个答案与它最接近？ \n",
    "\n",
    "`9.` 需要注意的是， `8.` 中的答案通常被称为 **抽样分布方差** 。如果将第一个样本大小更改为20，最终的抽样分布方差会发生什么变化？ 模拟并重新计算 `6.` 与 `8.` 的答案，检验一下你之前发现的一致性是否仍然成立。\n",
    "`10.` 最后，从样本数量为5的样本和样本数量为20的样本中进行10000次取样，然后绘制一个直方图。这些分布中的每一个都是一个样本分布。 一个是样本量5的比例，另一个是样本量20的样本分布。"
   ]
  },
  {
   "cell_type": "code",
   "execution_count": 2,
   "metadata": {},
   "outputs": [
    {
     "data": {
      "text/plain": [
       "0.7142857142857143"
      ]
     },
     "execution_count": 2,
     "metadata": {},
     "output_type": "execute_result"
    }
   ],
   "source": [
    "## 1 Simulate your 20 draws\n",
    "p = students.mean()\n",
    "p"
   ]
  },
  {
   "cell_type": "code",
   "execution_count": 3,
   "metadata": {
    "scrolled": true
   },
   "outputs": [
    {
     "data": {
      "text/plain": [
       "array([[0, 1, 0, 0, 0, 0, 0, 1, 0, 0, 0, 1, 1, 0, 0, 0, 0, 0, 0, 0, 0],\n",
       "       [0, 0, 0, 0, 0, 0, 0, 0, 0, 0, 0, 0, 1, 1, 1, 0, 0, 0, 0, 0, 0],\n",
       "       [0, 1, 0, 0, 0, 0, 0, 0, 1, 0, 1, 1, 0, 1, 0, 0, 0, 0, 0, 0, 1],\n",
       "       [0, 0, 0, 0, 1, 0, 1, 0, 0, 0, 1, 0, 0, 0, 0, 0, 0, 1, 0, 0, 0],\n",
       "       [0, 0, 0, 0, 1, 0, 0, 0, 0, 0, 0, 0, 0, 0, 0, 0, 0, 0, 0, 0, 1]])"
      ]
     },
     "execution_count": 3,
     "metadata": {},
     "output_type": "execute_result"
    }
   ],
   "source": [
    "seed = np.random.choice(2, size=(5, 21), p=[0.8, 0.2])\n",
    "seed"
   ]
  },
  {
   "cell_type": "code",
   "execution_count": 4,
   "metadata": {
    "scrolled": true
   },
   "outputs": [
    {
     "data": {
      "text/plain": [
       "array([[0, 0, 0, 0, 0, 0, 0, 0, 0, 0, 0, 1, 1, 0, 0, 0, 0, 0, 0, 0, 0],\n",
       "       [0, 0, 0, 0, 0, 0, 0, 0, 0, 0, 0, 0, 1, 1, 1, 0, 0, 0, 0, 0, 0],\n",
       "       [0, 0, 0, 0, 0, 0, 0, 0, 0, 0, 1, 1, 0, 1, 0, 0, 0, 0, 0, 0, 0],\n",
       "       [0, 0, 0, 0, 1, 0, 0, 0, 0, 0, 1, 0, 0, 0, 0, 0, 0, 1, 0, 0, 0],\n",
       "       [0, 0, 0, 0, 1, 0, 0, 0, 0, 0, 0, 0, 0, 0, 0, 0, 0, 0, 0, 0, 0]])"
      ]
     },
     "execution_count": 4,
     "metadata": {},
     "output_type": "execute_result"
    }
   ],
   "source": [
    "students & seed"
   ]
  },
  {
   "cell_type": "code",
   "execution_count": 6,
   "metadata": {},
   "outputs": [
    {
     "data": {
      "text/plain": [
       "(15, 19)"
      ]
     },
     "execution_count": 6,
     "metadata": {},
     "output_type": "execute_result"
    }
   ],
   "source": [
    "students.sum(), seed.sum()"
   ]
  },
  {
   "cell_type": "code",
   "execution_count": 7,
   "metadata": {},
   "outputs": [
    {
     "data": {
      "text/plain": [
       "0.631578947368421"
      ]
     },
     "execution_count": 7,
     "metadata": {},
     "output_type": "execute_result"
    }
   ],
   "source": [
    "sample = students & seed\n",
    "sample.sum() / seed.sum()"
   ]
  },
  {
   "cell_type": "markdown",
   "metadata": {},
   "source": [
    "## 抽样分布符号法 \n",
    "\n",
    "我们已经学习了抽样分布的一些重要内容： \n",
    "\n",
    "**首先***，我们将 **抽样分布** 定义为 **样本量的分布**。 \n",
    "\n",
    "这很基础，我不再强调这个理论的重要性。我们在之前 ipython 笔记本中模拟创建了容量为 5 和 20 的样本分布，你可以在接下来的概念和课程中多次使用。 \n",
    "\n",
    "**第二**，我们发现抽样分布的一些有趣内容，在这节课中还会重复出现。我们发现比例 (同时也意味着，作为比例，只是数值 0 和 1 的平均数) 具有以下特点。 \n",
    "\n",
    "- 抽样分布以初始参数值为中心。 \n",
    "\n",
    "- 根据样本容量大小，抽样分布降低了方差。具体说来，抽样分布的方差等于初始数据除以样本容量的方差。这也同样适用于样本平均数方差！ \n",
    "\n",
    "注释法中，如果说我们有随机变量 ${X}$，和方差 ${\\sigma^2}$，那么 ${\\bar{X}}$ 的分布 (样本平均数的抽样分布) 方差为 ${\\frac{\\sigma^2}{n}}$\n",
    "\n",
    " \n",
    " \n",
    "\n",
    "**下节预告** \n",
    "\n",
    "这节课接下来的内容将巩固你在Notebook中看到的一些理论，但你也了解到一些重点理论，将会继续不断出现。 "
   ]
  },
  {
   "cell_type": "markdown",
   "metadata": {},
   "source": [
    "![image](https://raw.githubusercontent.com/hufe09/GitNote-Images/master/Picee/image.35eqrmrplit.png)\n",
    "![image](https://raw.githubusercontent.com/hufe09/GitNote-Images/master/Picee/image.u34oqt0fg5n.png)"
   ]
  },
  {
   "cell_type": "markdown",
   "metadata": {},
   "source": [
    "# 两个有用的定理 Two Useful Theorems\n",
    "\n",
    "\n",
    "## 大数法则  Law of Large Numbers\n",
    "\n",
    "\n",
    "\n",
    "抽样分布涉及的两个重要数学定理包括： \n",
    "\n",
    "- 大数法则 \n",
    "\n",
    "- 中心极限定理 \n",
    "\n",
    "大数法则 表示 **随着样本容量增加，样本平均数越来越接近总体平均数**，但是我们首先如何确定样本平均数可以估计总体平均数呢？我们以后如何识别参数与统计量的其他关系呢？ \n",
    "\n",
    "\n",
    "下面是三种最常见的估计技巧： \n",
    "\n",
    "\n",
    "- [最大似然估计](https://en.wikipedia.org/wiki/Maximum_likelihood_estimation)\n",
    "- [矩估计方法](https://en.wikipedia.org/wiki/Method_of_moments_(statistics))\n",
    "- [贝叶斯估计](https://en.wikipedia.org/wiki/Bayes_estimator)\n",
    "\n",
    "虽然这些超出了这个课程覆盖的范围，但是数据学家可以很好地理解这些技巧，他们需要理解如何估计一些除了平均数或方差以外不常见的数值。使用其中一种方法\"最佳估计\"，具有必要性。 "
   ]
  },
  {
   "cell_type": "markdown",
   "metadata": {},
   "source": [
    "### 大数法则示例\n",
    "\n",
    "使用 `pop_data` 中存储的下列数据集来回答下面的问题，并完成以下测试题目。"
   ]
  },
  {
   "cell_type": "code",
   "execution_count": 64,
   "metadata": {},
   "outputs": [
    {
     "name": "stdout",
     "output_type": "stream",
     "text": [
      "0.5488135039273248\n",
      "0.5488135039273248\n",
      "0.5488135039273248\n",
      "0.5488135039273248\n",
      "0.5488135039273248\n"
     ]
    }
   ],
   "source": [
    "np.random.seed(5)\n",
    "num = 0\n",
    "while(num<5):\n",
    "    np.random.seed(0)\n",
    "    print(np.random.random())\n",
    "    num+=1"
   ]
  },
  {
   "cell_type": "code",
   "execution_count": 8,
   "metadata": {},
   "outputs": [
    {
     "data": {
      "image/png": "[encoded data removed]",
      "text/plain": [
       "<Figure size 432x288 with 1 Axes>"
      ]
     },
     "metadata": {
      "needs_background": "light"
     },
     "output_type": "display_data"
    }
   ],
   "source": [
    "import numpy as np\n",
    "import matplotlib.pyplot as plt\n",
    "\n",
    "%matplotlib inline\n",
    "np.random.seed(42)\n",
    "\n",
    "pop_data = np.random.gamma(1, 100, 3000)\n",
    "plt.hist(pop_data)"
   ]
  },
  {
   "cell_type": "markdown",
   "metadata": {},
   "source": [
    "`1.` 该人口数据集中的数据值的数量是多少？\n",
    "\n",
    "`2.` 人口均值是多少？\n",
    "\n",
    "`3.` 使用 numpy 的 **random.choice** 模拟从 `pop_data` 数组中进行 5 次取样。样本均值是多少？\n",
    "\n",
    "`4.` 使用 numpy 的 **random.choice** 模拟从 `pop_data` 数组中进行 20 次取样。样本均值是多少？\n",
    "\n",
    "`5.` 使用 numpy 的 **random.choice** 模拟从 `pop_data` 数组中进行 100 次取样。样本均值是多少？"
   ]
  },
  {
   "cell_type": "code",
   "execution_count": 9,
   "metadata": {},
   "outputs": [
    {
     "data": {
      "text/plain": [
       "(3000,)"
      ]
     },
     "execution_count": 9,
     "metadata": {},
     "output_type": "execute_result"
    }
   ],
   "source": [
    "# 1\n",
    "pop_data.shape"
   ]
  },
  {
   "cell_type": "code",
   "execution_count": 10,
   "metadata": {},
   "outputs": [
    {
     "data": {
      "text/plain": [
       "100.35978700795846"
      ]
     },
     "execution_count": 10,
     "metadata": {},
     "output_type": "execute_result"
    }
   ],
   "source": [
    "# 2\n",
    "pop_data.mean()"
   ]
  },
  {
   "cell_type": "code",
   "execution_count": 11,
   "metadata": {},
   "outputs": [
    {
     "name": "stdout",
     "output_type": "stream",
     "text": [
      "27.685829640608965\n"
     ]
    }
   ],
   "source": [
    "# 3\n",
    "sample_1 = np.random.choice(pop_data, 5)\n",
    "print(sample_1.mean())"
   ]
  },
  {
   "cell_type": "code",
   "execution_count": 12,
   "metadata": {},
   "outputs": [
    {
     "name": "stdout",
     "output_type": "stream",
     "text": [
      "163.3701520126447\n"
     ]
    }
   ],
   "source": [
    "# 4\n",
    "sample_2 = np.random.choice(pop_data, 20)\n",
    "print(sample_2.mean())"
   ]
  },
  {
   "cell_type": "code",
   "execution_count": 13,
   "metadata": {},
   "outputs": [
    {
     "name": "stdout",
     "output_type": "stream",
     "text": [
      "119.55076984115861\n"
     ]
    }
   ],
   "source": [
    "# 5\n",
    "sample_3 = np.random.choice(pop_data, 100)\n",
    "print(sample_3.mean())"
   ]
  },
  {
   "cell_type": "markdown",
   "metadata": {},
   "source": [
    "## 中心极限定理  Central Limit Theorem\n",
    "\n",
    "**中心极限定理** 表示 **样本容量足够大，平均数的抽样分布越接近正态分布**。 \n",
    "\n",
    "**中心极限定理** 实际上应用于这些常见的统计量中： \n",
    "\n",
    "- 样本平均数 ($\\bar{x}$) \n",
    "\n",
    "- 样本比例 ($p$) \n",
    "\n",
    "- 样本平均数的差异 ($\\bar{x}_1 - \\bar{x}_2$) \n",
    "\n",
    "- 样本比例的差异 ($p_1 - p_2$) \n",
    "\n",
    "此外，它应用于其他统计量 但不能应用于所有统计量！ 你可以在这节课结尾看到更多内容。"
   ]
  },
  {
   "cell_type": "markdown",
   "metadata": {},
   "source": [
    "### 中心极限定理 \n",
    "\n",
    "浏览所有的问题，然后使用创建的变量来回答 notebook 下面的问题。\n",
    "\n",
    "运行下面的单元格，开始你的任务吧。"
   ]
  },
  {
   "cell_type": "code",
   "execution_count": 1,
   "metadata": {},
   "outputs": [
    {
     "data": {
      "image/png": "[encoded data removed]",
      "text/plain": [
       "<matplotlib.figure.Figure at 0x7f9fc3254550>"
      ]
     },
     "metadata": {
      "needs_background": "light"
     },
     "output_type": "display_data"
    }
   ],
   "source": [
    "import numpy as np\n",
    "import matplotlib.pyplot as plt\n",
    "\n",
    "%matplotlib inline\n",
    "np.random.seed(42)\n",
    "\n",
    "pop_data = np.random.gamma(1, 100, 3000)\n",
    "plt.hist(pop_data)"
   ]
  },
  {
   "cell_type": "markdown",
   "metadata": {},
   "source": [
    "`1.` 为了创建该分布中3次取样的平均值的抽样分布，请按照下列步骤操作：\n",
    "\n",
    "`a.` 使用 numpy 的 **random.choice** 模拟从 `pop_data` 数组中进行3次取样。   <br><br>\n",
    "`b.` 计算这3次取样的平均值。 <br><br>\n",
    "`c.` 编写一个循环10,000次的程序来模拟这个过程，并将每个均值存储到一个名为 **means_size_3** 的数组中。<br><br>\n",
    "`d.` 绘制一个样本均值直方图。<br><br>\n",
    "`e.` 使用 **means_size_3** 与 **pop_data**  回答下面的测试题目。"
   ]
  },
  {
   "cell_type": "code",
   "execution_count": 14,
   "metadata": {},
   "outputs": [
    {
     "name": "stdout",
     "output_type": "stream",
     "text": [
      "37.98626502159264\n"
     ]
    }
   ],
   "source": [
    "# 1\n",
    "sample_1 = np.random.choice(pop_data, 3)\n",
    "print(sample_1.mean())"
   ]
  },
  {
   "cell_type": "code",
   "execution_count": 16,
   "metadata": {},
   "outputs": [
    {
     "name": "stdout",
     "output_type": "stream",
     "text": [
      "[104.18919271 393.71667001 430.38927994 ... 346.16323965 383.06008787\n",
      "  73.37177169]\n"
     ]
    }
   ],
   "source": [
    "means_size_3 = np.random.choice(pop_data, size=(10000, 3)).sum(axis=1)\n",
    "print(means_size_3)"
   ]
  },
  {
   "cell_type": "markdown",
   "metadata": {},
   "source": [
    "### 中心极限定理 - II\n",
    "\n",
    "浏览所有的问题，然后使用创建的变量来回答 notebook 下面的问题。\n",
    "\n",
    "运行下面的单元格，开始你的任务吧。"
   ]
  },
  {
   "cell_type": "code",
   "execution_count": 1,
   "metadata": {},
   "outputs": [
    {
     "data": {
      "image/png": "[encoded data removed]",
      "text/plain": [
       "<matplotlib.figure.Figure at 0x7fa89d813cc0>"
      ]
     },
     "metadata": {
      "needs_background": "light"
     },
     "output_type": "display_data"
    }
   ],
   "source": [
    "import numpy as np\n",
    "import matplotlib.pyplot as plt\n",
    "\n",
    "%matplotlib inline\n",
    "np.random.seed(42)\n",
    "\n",
    "pop_data = np.random.gamma(1, 100, 3000)\n",
    "plt.hist(pop_data)"
   ]
  },
  {
   "cell_type": "markdown",
   "metadata": {},
   "source": [
    "`1.` 为了创建该分布中100次取样的平均值的抽样分布，请按照下列步骤操作：\n",
    "\n",
    "`a.` 使用 numpy 的 **random.choice** 模拟从 `pop_data` 数组中进行 100 次取样。   <br><br>\n",
    "`b.` 计算这100次取样的平均值。 <br><br>\n",
    "`c.` 编写一个循环10,000次的程序来模拟这个过程，并将每个均值存储到一个名为 **means_size_100** 的数组中。<br><br>\n",
    "`d.` 绘制一个样本均值直方图。<br><br>\n",
    "`e.` 使用 **means_size_100** 与 **pop_data** 回答下面的测试题目。"
   ]
  },
  {
   "cell_type": "code",
   "execution_count": 2,
   "metadata": {},
   "outputs": [
    {
     "name": "stdout",
     "output_type": "stream",
     "text": [
      "[   1.99073813    2.56776095  100.03907725   26.44660917    7.38496269\n",
      "  150.12425405  227.09741251    3.16290491  428.38655756   87.55537772\n",
      "  265.49500859  119.16779497   59.13481289  158.08374881  356.77981383\n",
      "  431.47510845  270.19418338   47.23477616   44.66526676   15.95263842\n",
      "  106.31988723  386.82424166   27.20486222   62.10553019   20.43885995\n",
      "   56.55370668  184.40771413  193.58337438   51.77500786    4.79849924\n",
      "   81.73604076   60.92408858   17.52584347  141.98034755   77.95934969\n",
      "  124.54172889  100.28059836  223.04811056  197.13449719   27.53487243\n",
      "  155.39900137  339.37467824  343.76550028   87.27494299   89.43587636\n",
      "    0.78724977   49.13006922  234.5061523   275.83812054   99.77924597\n",
      "    8.27506873   50.85998157    8.78917262    5.33549735  130.62768386\n",
      "  166.3647723   439.40638915    3.04319809   62.10553019  169.8663034\n",
      "   57.42105041   46.72104006    5.92817064   40.72336041  151.75954932\n",
      "  324.7673666   128.10430976  172.3933906     4.28565873  108.91623873\n",
      "  114.29336926   59.27636022   18.26653224  329.17249724   15.02345287\n",
      "   67.22721095  183.13465118  104.87738143   20.64917455   27.90293443\n",
      "   70.57584889   29.92430907   99.30575735   90.98443102   59.24977234\n",
      "   70.37074898   64.23811416   70.41173695  121.96983475   44.40684119\n",
      "  120.7879966   212.75463181  146.66583262  125.20674729    0.55374204\n",
      "   99.26282904   96.83989671   26.4242531   377.98631126   11.41674352]\n"
     ]
    }
   ],
   "source": [
    "# 1\n",
    "sample_100 = np.random.choice(pop_data, 100)\n",
    "print(sample_100)"
   ]
  },
  {
   "cell_type": "code",
   "execution_count": 3,
   "metadata": {},
   "outputs": [
    {
     "data": {
      "text/plain": [
       "115.89760480820178"
      ]
     },
     "execution_count": 3,
     "metadata": {},
     "output_type": "execute_result"
    }
   ],
   "source": [
    "# 2\n",
    "sample_100.mean()"
   ]
  },
  {
   "cell_type": "code",
   "execution_count": 6,
   "metadata": {},
   "outputs": [
    {
     "name": "stdout",
     "output_type": "stream",
     "text": [
      "[  81.62584998   88.17626716  103.21634257 ...,  102.26050651  104.0984823\n",
      "   94.70973569]\n"
     ]
    }
   ],
   "source": [
    "# 3\n",
    "means_size_100 = np.random.choice(pop_data,\n",
    "                                  size=(10000, 100)).sum(axis=1) / 100\n",
    "print(means_size_100)"
   ]
  },
  {
   "cell_type": "code",
   "execution_count": 7,
   "metadata": {},
   "outputs": [
    {
     "data": {
      "text/plain": [
       "(array([   58.,   347.,  1224.,  2298.,  2711.,  1973.,   941.,   358.,\n",
       "           75.,    15.]),\n",
       " array([  70.20542951,   77.0158252 ,   83.82622088,   90.63661657,\n",
       "          97.44701226,  104.25740795,  111.06780363,  117.87819932,\n",
       "         124.68859501,  131.49899069,  138.30938638]),\n",
       " <a list of 10 Patch objects>)"
      ]
     },
     "execution_count": 7,
     "metadata": {},
     "output_type": "execute_result"
    },
    {
     "data": {
      "image/png": "[encoded data removed]",
      "text/plain": [
       "<matplotlib.figure.Figure at 0x7fa87be6a278>"
      ]
     },
     "metadata": {
      "needs_background": "light"
     },
     "output_type": "display_data"
    }
   ],
   "source": [
    "# 4\n",
    "plt.hist(means_size_100)"
   ]
  },
  {
   "cell_type": "code",
   "execution_count": 8,
   "metadata": {},
   "outputs": [
    {
     "data": {
      "text/plain": [
       "100.35978700795846"
      ]
     },
     "execution_count": 8,
     "metadata": {},
     "output_type": "execute_result"
    }
   ],
   "source": [
    "pop_data.mean()"
   ]
  },
  {
   "cell_type": "code",
   "execution_count": 9,
   "metadata": {},
   "outputs": [
    {
     "data": {
      "text/plain": [
       "99.778601879689063"
      ]
     },
     "execution_count": 9,
     "metadata": {},
     "output_type": "execute_result"
    }
   ],
   "source": [
    "pop_data.std()"
   ]
  },
  {
   "cell_type": "code",
   "execution_count": 10,
   "metadata": {},
   "outputs": [
    {
     "data": {
      "text/plain": [
       "100.36709290586464"
      ]
     },
     "execution_count": 10,
     "metadata": {},
     "output_type": "execute_result"
    }
   ],
   "source": [
    "means_size_100.mean()"
   ]
  },
  {
   "cell_type": "code",
   "execution_count": 14,
   "metadata": {},
   "outputs": [
    {
     "data": {
      "text/plain": [
       "96.930249278119106"
      ]
     },
     "execution_count": 14,
     "metadata": {},
     "output_type": "execute_result"
    }
   ],
   "source": [
    "means_size_100.var()"
   ]
  },
  {
   "cell_type": "code",
   "execution_count": 13,
   "metadata": {},
   "outputs": [
    {
     "data": {
      "text/plain": [
       "9955.7693930654896"
      ]
     },
     "execution_count": 13,
     "metadata": {},
     "output_type": "execute_result"
    }
   ],
   "source": [
    "pop_data.var()"
   ]
  },
  {
   "cell_type": "markdown",
   "metadata": {},
   "source": [
    "### 什么情况下中心极限定理无法发挥作用？ \n",
    "\n",
    "在之前的例子中，你注意到 **中心极限定理** 如何应用样本平均数为 100 中，纠正右偏分布。然而，样本容量为 3 无法纠正右偏分布。 \n",
    "\n",
    "在接下来的概念中，你会发现样本容量大，特定统计量的抽样分布永远不能正态分布。所以我们怎么知道哪些统计量可以实现正态分布，哪些不可以呢？ \n",
    "\n",
    "所以你可能会有疑问，为什么 **中心极限定理** 如此重要？在计算机时代，它可能并不是像交易一样重要，但是很快会越来越重要！ "
   ]
  },
  {
   "cell_type": "markdown",
   "metadata": {},
   "source": [
    "### 中心极限定理 - III\n",
    "\n",
    "你已经了解了 **中心极限定理** 在之前的页面中是如何运用在样本均值中的。下面我们来看另一个例子，在这个例子中，  **中心极限定理** 将不再适用...\n",
    "\n",
    "浏览所有的问题，然后使用创建的变量来回答 notebook 下面的问题。\n",
    "\n",
    "运行下面的单元格，开始你的任务吧。"
   ]
  },
  {
   "cell_type": "code",
   "execution_count": 3,
   "metadata": {},
   "outputs": [
    {
     "data": {
      "image/png": "[encoded data removed]",
      "text/plain": [
       "<matplotlib.figure.Figure at 0x7fd7f10a5d68>"
      ]
     },
     "metadata": {
      "needs_background": "light"
     },
     "output_type": "display_data"
    }
   ],
   "source": [
    "import numpy as np\n",
    "import matplotlib.pyplot as plt\n",
    "\n",
    "%matplotlib inline\n",
    "np.random.seed(42)\n",
    "\n",
    "pop_data = np.random.gamma(1, 100, 3000)\n",
    "plt.hist(pop_data)"
   ]
  },
  {
   "cell_type": "markdown",
   "metadata": {},
   "source": [
    "`1.` 为了创建该分布中100次取样的方差的抽样分布，请按照下列步骤操作：\n",
    "\n",
    "`a.` 使用 numpy 的 **random.choice** 模拟从 `pop_data` 数组中进行100次取样。  <br><br>\n",
    "`b.` 计算这100次取样的方差。 <br><br>\n",
    "`c.` 编写一个循环10,000次的程序来模拟这个过程，并将每个均值存储到一个名为 **var_size_100** 的数组中。<br><br>\n",
    "`d.` 绘制一个样本方差直方图。<br><br>\n",
    "`e.` 使用 **var_size_100** 与 **pop_data** 回答下面的测试题目。"
   ]
  },
  {
   "cell_type": "code",
   "execution_count": 4,
   "metadata": {},
   "outputs": [
    {
     "name": "stdout",
     "output_type": "stream",
     "text": [
      "[   1.99073813    2.56776095  100.03907725   26.44660917    7.38496269\n",
      "  150.12425405  227.09741251    3.16290491  428.38655756   87.55537772\n",
      "  265.49500859  119.16779497   59.13481289  158.08374881  356.77981383\n",
      "  431.47510845  270.19418338   47.23477616   44.66526676   15.95263842\n",
      "  106.31988723  386.82424166   27.20486222   62.10553019   20.43885995\n",
      "   56.55370668  184.40771413  193.58337438   51.77500786    4.79849924\n",
      "   81.73604076   60.92408858   17.52584347  141.98034755   77.95934969\n",
      "  124.54172889  100.28059836  223.04811056  197.13449719   27.53487243\n",
      "  155.39900137  339.37467824  343.76550028   87.27494299   89.43587636\n",
      "    0.78724977   49.13006922  234.5061523   275.83812054   99.77924597\n",
      "    8.27506873   50.85998157    8.78917262    5.33549735  130.62768386\n",
      "  166.3647723   439.40638915    3.04319809   62.10553019  169.8663034\n",
      "   57.42105041   46.72104006    5.92817064   40.72336041  151.75954932\n",
      "  324.7673666   128.10430976  172.3933906     4.28565873  108.91623873\n",
      "  114.29336926   59.27636022   18.26653224  329.17249724   15.02345287\n",
      "   67.22721095  183.13465118  104.87738143   20.64917455   27.90293443\n",
      "   70.57584889   29.92430907   99.30575735   90.98443102   59.24977234\n",
      "   70.37074898   64.23811416   70.41173695  121.96983475   44.40684119\n",
      "  120.7879966   212.75463181  146.66583262  125.20674729    0.55374204\n",
      "   99.26282904   96.83989671   26.4242531   377.98631126   11.41674352]\n"
     ]
    }
   ],
   "source": [
    "# 1\n",
    "sample_100 = np.random.choice(pop_data, 100)\n",
    "print(sample_100)"
   ]
  },
  {
   "cell_type": "code",
   "execution_count": 5,
   "metadata": {},
   "outputs": [
    {
     "data": {
      "text/plain": [
       "12098.749344943082"
      ]
     },
     "execution_count": 5,
     "metadata": {},
     "output_type": "execute_result"
    }
   ],
   "source": [
    "sample_100.var()"
   ]
  },
  {
   "cell_type": "code",
   "execution_count": 6,
   "metadata": {},
   "outputs": [
    {
     "name": "stdout",
     "output_type": "stream",
     "text": [
      "[ 10716.24311956   9772.770877    12447.7181846  ...,   8521.2288457\n",
      "  12104.47229291   5977.23536641]\n"
     ]
    }
   ],
   "source": [
    "var_size_100 = np.random.choice(pop_data, size=(10000, 100)).var(axis=1)\n",
    "print(var_size_100)"
   ]
  },
  {
   "cell_type": "code",
   "execution_count": 7,
   "metadata": {},
   "outputs": [
    {
     "data": {
      "text/plain": [
       "(array([  176.,  1338.,  2857.,  2728.,  1695.,   758.,   315.,    91.,\n",
       "           32.,    10.]),\n",
       " array([  3615.72815393,   5472.35978523,   7328.99141652,   9185.62304782,\n",
       "         11042.25467911,  12898.88631041,  14755.51794171,  16612.149573  ,\n",
       "         18468.7812043 ,  20325.41283559,  22182.04446689]),\n",
       " <a list of 10 Patch objects>)"
      ]
     },
     "execution_count": 7,
     "metadata": {},
     "output_type": "execute_result"
    },
    {
     "data": {
      "image/png": "[encoded data removed]",
      "text/plain": [
       "<matplotlib.figure.Figure at 0x7fd7f10de2e8>"
      ]
     },
     "metadata": {
      "needs_background": "light"
     },
     "output_type": "display_data"
    }
   ],
   "source": [
    "plt.hist(var_size_100)"
   ]
  },
  {
   "cell_type": "code",
   "execution_count": 8,
   "metadata": {},
   "outputs": [
    {
     "data": {
      "text/plain": [
       "9955.7693930654896"
      ]
     },
     "execution_count": 8,
     "metadata": {},
     "output_type": "execute_result"
    }
   ],
   "source": [
    "pop_data.var()"
   ]
  },
  {
   "cell_type": "code",
   "execution_count": 9,
   "metadata": {},
   "outputs": [
    {
     "data": {
      "text/plain": [
       "9874.3617936218252"
      ]
     },
     "execution_count": 9,
     "metadata": {},
     "output_type": "execute_result"
    }
   ],
   "source": [
    "var_size_100.mean()"
   ]
  },
  {
   "cell_type": "markdown",
   "metadata": {},
   "source": [
    "# Bootstrapping 自助法 \n",
    "\n",
    "**自助法 (Bootstrapping)** 是放回抽样。在 python 中使用 `random.choice` 实际上是自助法。无论选择多少次，我们数据集中任何数字的概率保持不变。抛硬币和掷骰子也是自展抽样，因为在一个场景中滚动出 6，并不意味着后面出现 6 的概率降低。 \n",
    "\n",
    "\n",
    "## 自助法与中心极限定理 \n",
    "\n",
    "在这节课的前面部分，你实际上使用了自助法，创建抽样分布，但现在是更为宏观的理论。 \n",
    "\n",
    "实际上我们可以通过创建自助法，利用抽样分布，仅从一个样本中很好地发现一个参数。接下来课程中将会深入讲解。 \n",
    "\n",
    "下列是发现 \"最佳统计量\" 估计技巧最常见的三种方式，之前曾经提到过： \n",
    "\n",
    "- 最大似然估计 \n",
    "\n",
    "- 矩估计方法 \n",
    "\n",
    "- 贝叶斯估计 \n",
    "\n",
    "虽然这些超出了这个课程覆盖的范围，但是数据学家可以很好地理解这些技巧，他们需要理解如何估计一些除了平均数或方差以外不常见的数值。使用其中一种方法\"最佳估计\"，具有必要性。 "
   ]
  },
  {
   "cell_type": "code",
   "execution_count": 24,
   "metadata": {},
   "outputs": [],
   "source": [
    "import numpy as np\n",
    "np.random.seed(42)\n",
    "\n",
    "die_vals = np.array([1, 2, 3, 4, 5, 6])"
   ]
  },
  {
   "cell_type": "markdown",
   "metadata": {},
   "source": [
    "1. 使用下面的代码，从 **die_vals** 中随机抽取20个值，然后在下面的第一个练习中回答这个问题。"
   ]
  },
  {
   "cell_type": "code",
   "execution_count": 25,
   "metadata": {},
   "outputs": [
    {
     "data": {
      "text/plain": [
       "array([4, 5, 3, 5, 5, 2, 3, 3, 3, 5, 4, 3, 6, 5, 2, 4, 6, 6, 2, 4])"
      ]
     },
     "execution_count": 25,
     "metadata": {},
     "output_type": "execute_result"
    }
   ],
   "source": [
    "np.random.choice(die_vals, size=20)"
   ]
  },
  {
   "cell_type": "markdown",
   "metadata": {},
   "source": [
    "`2.` 使用下面的代码，从 **die_vals** 中抽取另一个样本， 然后在下面的第一个练习中回答这个问题。"
   ]
  },
  {
   "cell_type": "code",
   "execution_count": 30,
   "metadata": {},
   "outputs": [
    {
     "data": {
      "text/plain": [
       "array([1, 2, 5, 4, 3, 6])"
      ]
     },
     "execution_count": 30,
     "metadata": {},
     "output_type": "execute_result"
    }
   ],
   "source": [
    "np.random.choice(die_vals, replace=False, size=6)"
   ]
  },
  {
   "cell_type": "code",
   "execution_count": 50,
   "metadata": {},
   "outputs": [
    {
     "data": {
      "text/plain": [
       "0.6190476190476191"
      ]
     },
     "execution_count": 50,
     "metadata": {},
     "output_type": "execute_result"
    }
   ],
   "source": [
    "students = np.array(\n",
    "    [1, 0, 1, 0, 1, 1, 0, 1, 0, 1, 0, 1, 0, 1, 1, 0, 1, 1, 1, 1, 0])\n",
    "students.mean()"
   ]
  },
  {
   "cell_type": "code",
   "execution_count": 51,
   "metadata": {},
   "outputs": [
    {
     "data": {
      "text/plain": [
       "array([1, 1, 1, 0, 1, 1, 1, 0, 0, 0, 1, 1, 1, 1, 1, 0, 1, 0, 1, 1, 1])"
      ]
     },
     "execution_count": 51,
     "metadata": {},
     "output_type": "execute_result"
    }
   ],
   "source": [
    "np.random.choice(students, 21)"
   ]
  },
  {
   "cell_type": "code",
   "execution_count": 52,
   "metadata": {},
   "outputs": [
    {
     "data": {
      "text/plain": [
       "array([1, 0, 1, 0, 1, 1, 1, 0, 1, 1, 0, 0, 1, 0, 1, 1, 0, 1, 0, 1, 1])"
      ]
     },
     "execution_count": 52,
     "metadata": {},
     "output_type": "execute_result"
    }
   ],
   "source": [
    "np.random.choice(students, replace=False, size=21)"
   ]
  },
  {
   "cell_type": "code",
   "execution_count": 53,
   "metadata": {},
   "outputs": [
    {
     "data": {
      "text/plain": [
       "0.5238095238095238"
      ]
     },
     "execution_count": 53,
     "metadata": {},
     "output_type": "execute_result"
    }
   ],
   "source": [
    "np.random.choice(students, 21).mean()"
   ]
  },
  {
   "cell_type": "code",
   "execution_count": 54,
   "metadata": {},
   "outputs": [
    {
     "data": {
      "text/plain": [
       "0.5238095238095238"
      ]
     },
     "execution_count": 54,
     "metadata": {},
     "output_type": "execute_result"
    }
   ],
   "source": [
    "sample = _\n",
    "sample.mean()"
   ]
  },
  {
   "cell_type": "code",
   "execution_count": 55,
   "metadata": {},
   "outputs": [],
   "source": [
    "proportions = [np.random.choice(students, 21).mean() for _ in range(10000)]"
   ]
  },
  {
   "cell_type": "code",
   "execution_count": 56,
   "metadata": {},
   "outputs": [
    {
     "data": {
      "text/plain": [
       "(array([2.000e+00, 5.500e+01, 1.600e+02, 1.159e+03, 1.096e+03, 3.347e+03,\n",
       "        2.896e+03, 7.430e+02, 5.090e+02, 3.300e+01]),\n",
       " array([0.19047619, 0.26666667, 0.34285714, 0.41904762, 0.4952381 ,\n",
       "        0.57142857, 0.64761905, 0.72380952, 0.8       , 0.87619048,\n",
       "        0.95238095]),\n",
       " <a list of 10 Patch objects>)"
      ]
     },
     "execution_count": 56,
     "metadata": {},
     "output_type": "execute_result"
    },
    {
     "data": {
      "image/png": "[encoded data removed]",
      "text/plain": [
       "<Figure size 432x288 with 1 Axes>"
      ]
     },
     "metadata": {
      "needs_background": "light"
     },
     "output_type": "display_data"
    }
   ],
   "source": [
    "import matplotlib.pyplot as plt\n",
    "%matplotlib inline\n",
    "\n",
    "plt.hist(proportions)"
   ]
  },
  {
   "cell_type": "markdown",
   "metadata": {},
   "source": [
    "![image](https://raw.githubusercontent.com/hufe09/GitNote-Images/master/Picee/image.pbpskp8jea.png)"
   ]
  },
  {
   "cell_type": "markdown",
   "metadata": {},
   "source": [
    "**两个有用链接**: \n",
    "\n",
    "- 你可以通过 [这里](https://en.wikipedia.org/wiki/Bradley_Efron) 学习更多布拉德利·埃弗龙 (Bradley Efron) 知识。  \n",
    "\n",
    "- 自助法可以作为推论技巧的原因，更多注释可以参见 [这里](https://stats.stackexchange.com/questions/26088/explaining-to-laypeople-why-bootstrapping-works)。 "
   ]
  },
  {
   "cell_type": "markdown",
   "metadata": {},
   "source": [
    "# 总结\n",
    "在本课中，你学到了很多东西！你了解到：\n",
    "\n",
    "## 抽样分配\n",
    "**抽样分布** 是一个统计量 (任何统计量) 的分布。 \n",
    "\n",
    "抽样分布涉及两个重要数学定理：**大数法则** 和 **中心极限定理**。 \n",
    "\n",
    "**大数法则** 表示随着样本容量增加，样本平均数越来越接近总体平均数。一般来说，如果统计量 \"较好地\" 估计参数，它会接近较大样本容量的参数。 \n",
    "\n",
    "**中心极限定理** 表示样本容量足够大，样本平均数会是正态分布，但是在多个样本平均数情况下，它才为真。 \n",
    "\n",
    "## 自助法 \n",
    "\n",
    "**自助法** 是我们从群组中进行放回抽样的技巧。 \n",
    "\n",
    "- 我们可以使用自助法，模拟在这节课进行多次的创建抽样分布。  \n",
    "\n",
    "- 通过自助法，计算我们统计量的重复数值，我们可以理解统计中的抽样分布。\n",
    "\n",
    "**下节预告** \n",
    "\n",
    "在这节课中，你通过学习抽样分布和自助法等基本理论，可以帮助你在接下来两节课中更好理解。这些理论是接下来两节课中 置信区间 和 假设测试 的基础。 "
   ]
  }
 ],
 "metadata": {
  "kernelspec": {
   "display_name": "Python 3",
   "language": "python",
   "name": "python3"
  },
  "language_info": {
   "codemirror_mode": {
    "name": "ipython",
    "version": 3
   },
   "file_extension": ".py",
   "mimetype": "text/x-python",
   "name": "python",
   "nbconvert_exporter": "python",
   "pygments_lexer": "ipython3",
   "version": "3.7.3"
  },
  "toc": {
   "base_numbering": 1,
   "nav_menu": {},
   "number_sections": true,
   "sideBar": true,
   "skip_h1_title": false,
   "title_cell": "Table of Contents",
   "title_sidebar": "Contents",
   "toc_cell": false,
   "toc_position": {
    "height": "calc(100% - 180px)",
    "left": "10px",
    "top": "150px",
    "width": "320px"
   },
   "toc_section_display": true,
   "toc_window_display": true
  },
  "varInspector": {
   "cols": {
    "lenName": 16,
    "lenType": 16,
    "lenVar": 40
   },
   "kernels_config": {
    "python": {
     "delete_cmd_postfix": "",
     "delete_cmd_prefix": "del ",
     "library": "var_list.py",
     "varRefreshCmd": "print(var_dic_list())"
    },
    "r": {
     "delete_cmd_postfix": ") ",
     "delete_cmd_prefix": "rm(",
     "library": "var_list.r",
     "varRefreshCmd": "cat(var_dic_list()) "
    }
   },
   "types_to_exclude": [
    "module",
    "function",
    "builtin_function_or_method",
    "instance",
    "_Feature"
   ],
   "window_display": false
  }
 },
 "nbformat": 4,
 "nbformat_minor": 2
}
