{
 "cells": [
  {
   "cell_type": "markdown",
   "metadata": {},
   "source": [
    "# Hypothesis Testing 假设检验"
   ]
  },
  {
   "cell_type": "markdown",
   "metadata": {},
   "source": [
    "# 设置假设检验\n",
    "## 第1部分 \n",
    "设置 NUll 假设和备择假设的一些规则：\n",
    "\n",
    "- 在收集数据前，$H_0$ 为真。 \n",
    "\n",
    "- $H_0$ 通常表示没有影响或对两组影响相同。 \n",
    "\n",
    "- $H_0$ 和 $H_1$ 是竞争性、非重叠的假设。 \n",
    "\n",
    "- $H_1$ 可以证明这是真的。 \n",
    "\n",
    "- $H_0$ 包含一个等号：$=$ 、$\\leq$ 或 $\\geq$。 \n",
    "\n",
    "- $H_1$ 包含非空值：$\\neq$、$>$ 或 $<$。 \n",
    "\n",
    "美国司法系统中常说 “被证明有罪之前是无辜的”，例如表述 \"证明有罪之前是无辜的\" 表明下列假设为真： \n",
    "\n",
    "- $H_0$: 无辜的 \n",
    "\n",
    "- $H_1$: 有罪的 \n",
    "\n",
    "我们可以认为在收集数据之前，\"无辜的\" 为真。然后备择假设必须是竞争性、非重叠的假设。因此备择假设为一个人有罪。 "
   ]
  },
  {
   "cell_type": "markdown",
   "metadata": {},
   "source": [
    "## 第2部分 \n",
    "\n",
    "因为我们想测试新页面是否优于已有页面，我们设置备择假设。两个指标需要遵守，一是零假设应当包含等于号，二是备择假设应当包含我们希望为真的陈述。 因此，它应为以下形式： \n",
    "\n",
    "$H_0$: $\\mu_1$ $\\leq$ $\\mu_2$ \n",
    "\n",
    "$H_1$: $\\mu_1$ $>$ $\\mu_2$\n",
    "\n",
    "这里，$\\mu_1$ 代表新页面返回的总体平均数。同样，$\\mu_2$ 代表原来页面返回的总体平均数。 \n",
    "![image](https://raw.githubusercontent.com/hufe09/GitNote-Images/master/Picee/image.lvrdx9plwf.png)\n",
    "\n",
    "![image](https://raw.githubusercontent.com/hufe09/GitNote-Images/master/Picee/image.vc2c8eegg2q.png)"
   ]
  },
  {
   "cell_type": "markdown",
   "metadata": {},
   "source": [
    "# 错误类型\n",
    "![image](https://raw.githubusercontent.com/hufe09/GitNote-Images/master/Picee/image.kbrh3nstq2l.png)\n",
    "\n",
    "![image](https://raw.githubusercontent.com/hufe09/GitNote-Images/master/Picee/image.892qwfj87sy.png)"
   ]
  },
  {
   "cell_type": "markdown",
   "metadata": {},
   "source": [
    "## I 类错误 \n",
    "\n",
    "**I 类错误** 包含以下特征： \n",
    "\n",
    "1. 你应该设置零假设和备择假设，I 类错误是更严重的错误。 \n",
    "\n",
    "2. 它们由 $\\alpha$ 符号表示。 \n",
    "\n",
    "3. I 类错误的定义是： **($H_0$) 为真时，认为备择假设 ($H_1$) 为真**。 \n",
    "\n",
    "4. I 类错误通常称为 **误报**。 \n",
    "\n",
    "## II 类错误 \n",
    "\n",
    "1. 它们由 $\\beta$ 符号表示。 \n",
    "\n",
    "2. II 类错误的定义是：**($H_1$) 为真时，认为零假设 ($H_0$) 为真**。 \n",
    "\n",
    "3. II 类错误通常称为 **漏报**。 \n",
    "\n",
    "在一些极端情况下，我们通常选择一个假设 (如一直选择零假设)，确保某个错误不再出现 (假设我们一直选择零假设，不再出现 I 类错误)。不过，一般来说，一些单一的数据会降低某个错误类型的可能性，增加另一种错误类型的出现几率，两者是存在联系的。 "
   ]
  },
  {
   "cell_type": "markdown",
   "metadata": {},
   "source": [
    "在接下来的测试中，你会重新接触之前学习的各种理论。整合这些内容，对充分理解假设检验非常重要。 \n",
    "\n",
    "思考一下，我们想要测试最新营销活动的平均收入是否高于之前的营销活动。 \n",
    "\n",
    "我们通过下列方式设置零假设和备择假设： \n",
    "\n",
    "$H_0$: $\\mu_n - \\mu_o \\leq 0$\n",
    "\n",
    "和 \n",
    "\n",
    "$H_1$: $\\mu_n - \\mu_o > 0$\n",
    "\n",
    "其中 $\\mu_o$ 表示之前活动的平均收益，而 $\\mu_n$ 表示最新活动的平均收益。 \n",
    "\n",
    "\n",
    "![image](https://raw.githubusercontent.com/hufe09/GitNote-Images/master/Picee/image.bpokw41ins7.png)"
   ]
  },
  {
   "cell_type": "markdown",
   "metadata": {},
   "source": [
    "![image](https://raw.githubusercontent.com/hufe09/GitNote-Images/master/Picee/image.gzr5gt6gya.png)\n",
    "\n",
    "**降落伞例子** \n",
    "\n",
    "这个例子可以让你了解假设检验中犯错的极端情况。出现 I 类错误，会有一个人死去。出现 II 错误，你会减少 30 美元。 \n",
    "\n",
    "在接下来课程中你构建的假设检验，你能够选择 I 类错误阈值，并且保证 I 类错误率符合要求后，你的假设检验可以最小化 II 类错误。"
   ]
  },
  {
   "cell_type": "markdown",
   "metadata": {},
   "source": [
    "![image](https://raw.githubusercontent.com/hufe09/GitNote-Images/master/Picee/image.zkvsmwf3mz.png)\n",
    "![image](https://raw.githubusercontent.com/hufe09/GitNote-Images/master/Picee/image.3k79o0zn6i9.png)"
   ]
  },
  {
   "cell_type": "markdown",
   "metadata": {},
   "source": [
    "# 常见的假设检验类型\n",
    "\n",
    "你通常针对 总体参数 进行假设测验，而不是针对统计量。统计量是已经从数据中得到的，因此不需要假设测试验证这些数值。 \n",
    "\n",
    "常见的假设检验包括： \n",
    "\n",
    "1. 测试总体平均数 [(单样本 t 检验)](http://sites.utexas.edu/sos/guided/inferential/numeric/claim/one-sample-t/)。 \n",
    "\n",
    "2. 测试均数差 [(双样本 t 检验)](https://www.isixsigma.com/tools-templates/hypothesis-testing/making-sense-two-sample-t-test/) \n",
    "\n",
    "3. 测试个体治疗前后的差异 [(配对 t 检验)](http://www.statstutor.ac.uk/resources/uploaded/paired-t-test.pdf) \n",
    "\n",
    "4. 测试总体比例 [(单样本 z 检验)](https://stattrek.com/statistics/dictionary.aspx?definition=one-sample%20z-test)\n",
    "\n",
    "5. 测试总体比例的差异 [(双样本 z 检验)](https://onlinecourses.science.psu.edu/stat414/node/268)\n",
    "\n",
    "您可以使用其中一个站点提供t表或z表来支持上述方法之一：\n",
    "- [t-table](https://s3.amazonaws.com/udacity-hosted-downloads/t-table.jpg)\n",
    "- [t-table或z-table](http://www.z-table.com/t-value-table.html)\n",
    "\n",
    "**这有几百个不同的假设检验**！ 不过，你不是记忆如何完成所有这些检验，而是找到最佳估算参数的统计量，然后使用自助法模拟抽样分布。然后你可以利用抽样分布，帮助选择合适的假设检验。 "
   ]
  },
  {
   "cell_type": "markdown",
   "metadata": {},
   "source": [
    "# 在两种假设中如何选择？ \n",
    "\n",
    "- 一种方法是利用置信区间，模拟统计量的抽样分布，然后观察我们的假设，与在抽样分布中观察到的是否一致\n",
    "- 另一种是模拟我们认为零假设中，会出现的情况然后观察我们的数据与它是否一致。\n",
    "\n",
    "我们来做个例子，把这个理论应用在实践中。跟着下面视频课程，学习这种理论如何发挥作用。视频提到喝咖啡人群的平均身高，实际上是咖啡数据集 (包括喝咖啡和不喝咖啡人群) 中所有个体的平均身高。 \n",
    "\n",
    "完成视频课程后，可以对接下来概念中我们会使用的竞争性假设进行再次练习。在第二个视频课程中，你将会使用假设测验的普通逻辑。下面的视频使用之前置信区间课程中学到的逻辑。 "
   ]
  },
  {
   "cell_type": "markdown",
   "metadata": {},
   "source": [
    "## 利用置信区间做出决策\n",
    "模拟统计量的抽样分布，然后观察我们的假设，与在抽样分布中观察到的是否一致\n",
    "\n",
    "- H0: 喝咖啡的人的平均身高与不喝咖啡的人的平均身高相等\n",
    "- H1: 喝咖啡的人的平均身高与不喝咖啡的人的平均身高不相等"
   ]
  },
  {
   "cell_type": "code",
   "execution_count": 14,
   "metadata": {},
   "outputs": [],
   "source": [
    "import pandas as pd\n",
    "import numpy as np\n",
    "import matplotlib.pyplot as plt\n",
    "\n",
    "%matplotlib inline\n",
    "np.random.seed(42)\n",
    "\n",
    "df = pd.read_csv('datasets/coffee_dataset.csv')\n",
    "coffee_df = df.sample(150) #this is the only data you might actually get in the real world."
   ]
  },
  {
   "cell_type": "markdown",
   "metadata": {},
   "source": [
    "$H_0$: $\\mu_1$ $\\leq$ $70$ \n",
    "\n",
    "$H_1$: $\\mu_1$ $>$ $70$"
   ]
  },
  {
   "cell_type": "code",
   "execution_count": 15,
   "metadata": {},
   "outputs": [],
   "source": [
    "bootsample = coffee_df.sample(150, replace=True)"
   ]
  },
  {
   "cell_type": "code",
   "execution_count": 6,
   "metadata": {},
   "outputs": [],
   "source": [
    "means = []\n",
    "\n",
    "for _ in range(10000):\n",
    "    bootsample = coffee_df.sample(150, replace=True)\n",
    "    means.append(bootsample.height.mean())"
   ]
  },
  {
   "cell_type": "code",
   "execution_count": 16,
   "metadata": {},
   "outputs": [
    {
     "data": {
      "text/plain": [
       "(67.06130045195678, 68.0743944120841)"
      ]
     },
     "execution_count": 16,
     "metadata": {},
     "output_type": "execute_result"
    }
   ],
   "source": [
    "low, high = np.percentile(means, 2.5), np.percentile(means, 97.5)\n",
    "low, high"
   ]
  },
  {
   "cell_type": "code",
   "execution_count": 17,
   "metadata": {},
   "outputs": [
    {
     "data": {
      "image/png": "[encoded data removed]",
      "text/plain": [
       "<Figure size 432x288 with 1 Axes>"
      ]
     },
     "metadata": {
      "needs_background": "light"
     },
     "output_type": "display_data"
    }
   ],
   "source": [
    "plt.hist(means)\n",
    "plt.axvline(x=low, color='r', linewidth=2);\n",
    "plt.axvline(x=high, color='r', linewidth=2);"
   ]
  },
  {
   "cell_type": "markdown",
   "metadata": {},
   "source": [
    "通过使用置信区间，你可以很容易发现区间是否低于零假设空间或备择假设空间，选择你认为正确的假设。 \n",
    "\n",
    "在上面的例子中，我们区间低于 70，表明零假设 (总体平均数低于 70) 实际上为真。"
   ]
  },
  {
   "cell_type": "markdown",
   "metadata": {},
   "source": [
    "<a id=\"SimulatingNull\"></a>    \n",
    "## 模拟零假设\n",
    "\n",
    "在这个例子中我们对正态分布进行模拟"
   ]
  },
  {
   "cell_type": "code",
   "execution_count": 18,
   "metadata": {},
   "outputs": [
    {
     "data": {
      "text/plain": [
       "0.256818737853635"
      ]
     },
     "execution_count": 18,
     "metadata": {},
     "output_type": "execute_result"
    }
   ],
   "source": [
    "# 抽样分布的标准差\n",
    "np.std(means)"
   ]
  },
  {
   "cell_type": "markdown",
   "metadata": {},
   "source": [
    "用70的假设均值和抽样分布的标准偏差，对正态分布中的抽取值进行模拟"
   ]
  },
  {
   "cell_type": "code",
   "execution_count": 20,
   "metadata": {},
   "outputs": [
    {
     "data": {
      "text/plain": [
       "(array([1.100e+01, 1.470e+02, 6.800e+02, 2.152e+03, 3.217e+03, 2.464e+03,\n",
       "        1.082e+03, 2.210e+02, 2.400e+01, 2.000e+00]),\n",
       " array([69.00961056, 69.22368078, 69.437751  , 69.65182122, 69.86589144,\n",
       "        70.07996166, 70.29403188, 70.5081021 , 70.72217232, 70.93624254,\n",
       "        71.15031276]),\n",
       " <a list of 10 Patch objects>)"
      ]
     },
     "execution_count": 20,
     "metadata": {},
     "output_type": "execute_result"
    },
    {
     "data": {
      "image/png": "[encoded data removed]",
      "text/plain": [
       "<Figure size 432x288 with 1 Axes>"
      ]
     },
     "metadata": {
      "needs_background": "light"
     },
     "output_type": "display_data"
    }
   ],
   "source": [
    "null_vals = np.random.normal(70, np.std(means), 10000)\n",
    "plt.hist(null_vals)"
   ]
  },
  {
   "cell_type": "markdown",
   "metadata": {},
   "source": [
    "这里的每个被模拟抽取值代表零假设中的一个可能均值\n",
    "\n",
    "我们现在可以问一个问题样本均值位于这个分布中的哪个位置?"
   ]
  },
  {
   "cell_type": "code",
   "execution_count": 21,
   "metadata": {},
   "outputs": [
    {
     "data": {
      "text/plain": [
       "67.63297688228066"
      ]
     },
     "execution_count": 21,
     "metadata": {},
     "output_type": "execute_result"
    }
   ],
   "source": [
    "coffee_df.height.mean()"
   ]
  },
  {
   "cell_type": "markdown",
   "metadata": {},
   "source": [
    "可以看出样本身高均值远远低于这个正态分布\n",
    "\n",
    "如果样本均值接近70的中心值，它就是零假设中的值因此，我们认为零假设更可能为真。\n",
    "\n",
    "现在这种情况下样本均值位于尾部之外，我们不太可能认为它来自这个零假设值\n",
    "\n",
    "细心的同学可能会注意到，这两种方式得出的结果是不一样的。这是因为在上方“模拟零假设”视频中是以 μ = 70 为中心模拟出的正态分布，因此最终拒绝的零假设是 μ = 70， 而并非 μ ≤ 70 "
   ]
  },
  {
   "cell_type": "markdown",
   "metadata": {},
   "source": [
    "## Quiz: Simulating from the Null"
   ]
  },
  {
   "cell_type": "code",
   "execution_count": 22,
   "metadata": {},
   "outputs": [],
   "source": [
    "sample_data = df.sample(200)\n",
    "drinks_means = []\n",
    "nodrinks_means = []\n",
    "means_diffs = []\n",
    "for _ in range(10000):\n",
    "    bootsample = sample_data.sample(200, replace=True)\n",
    "    drinks_mean = bootsample[bootsample['drinks_coffee']==True]['height'].mean()\n",
    "    nodrinks_mean = bootsample[bootsample['drinks_coffee']==False]['height'].mean()\n",
    "    drinks_means.append(drinks_mean)\n",
    "    nodrinks_means.append(nodrinks_mean)\n",
    "    means_diffs.append(drinks_mean-nodrinks_mean)"
   ]
  },
  {
   "cell_type": "code",
   "execution_count": 23,
   "metadata": {},
   "outputs": [
    {
     "data": {
      "text/plain": [
       "0.3633484548618027"
      ]
     },
     "execution_count": 23,
     "metadata": {},
     "output_type": "execute_result"
    }
   ],
   "source": [
    "np.std(nodrinks_means)"
   ]
  },
  {
   "cell_type": "code",
   "execution_count": 24,
   "metadata": {},
   "outputs": [
    {
     "data": {
      "text/plain": [
       "0.2430442487612572"
      ]
     },
     "execution_count": 24,
     "metadata": {},
     "output_type": "execute_result"
    }
   ],
   "source": [
    "np.std(drinks_means)"
   ]
  },
  {
   "cell_type": "code",
   "execution_count": 25,
   "metadata": {},
   "outputs": [
    {
     "data": {
      "text/plain": [
       "0.4341799418682483"
      ]
     },
     "execution_count": 25,
     "metadata": {},
     "output_type": "execute_result"
    }
   ],
   "source": [
    "np.std(means_diffs)"
   ]
  },
  {
   "cell_type": "code",
   "execution_count": 26,
   "metadata": {},
   "outputs": [
    {
     "data": {
      "image/png": "[encoded data removed]",
      "text/plain": [
       "<Figure size 432x288 with 1 Axes>"
      ]
     },
     "metadata": {
      "needs_background": "light"
     },
     "output_type": "display_data"
    }
   ],
   "source": [
    "plt.hist(means_diffs);"
   ]
  },
  {
   "cell_type": "markdown",
   "metadata": {},
   "source": [
    "`1.` 如果你想知道喝咖啡的人的平均身高是否与不喝咖啡的人的平均身高相等，那么，你的零假设和备择假设是什么？将它们放在下面的单元格中，并使用你的答案来回答下面的第一个测试题目。\n",
    "\n",
    "`2.` 如果你想知道喝咖啡的人的平均身高是否低于不喝咖啡的人的身高，那么，你的零假设和备择假设是什么？将它们放在下面的单元格中，并使用你的答案来回答下面的第二个测试题目。\n",
    "\n",
    "`3.` 对于10,000次迭代：自展程序会对样本数据进行抽样，计算喝咖啡的人和不喝咖啡的人的平均身高，并计算每个样本的平均差异。你要在迭代结束时获取三个数组 - 一个是每个平均值，一个是所有平均值的差异。使用你的抽样分布结果，回答下面的第三个测试题目。\n",
    "\n",
    "`4.` 现在，使用你观察到的平均值差异抽样分布以及 [该文档](https://docs.scipy.org/doc/numpy-1.13.0/reference/generated/numpy.random.normal.html) 来模拟：如果零假设是真的，你会期望抽样分布是什么样的。你可以通过重新定位0点分布来完成这个任务。另外，计算 在`sample_data`中观察到的样本均值差。用你的解决方案来回答下面测试题中的最后一个问题。"
   ]
  },
  {
   "cell_type": "markdown",
   "metadata": {},
   "source": [
    "![image](https://raw.githubusercontent.com/hufe09/GitNote-Images/master/Picee/image.1hxf1kd4bpp.png)"
   ]
  },
  {
   "cell_type": "markdown",
   "metadata": {},
   "source": [
    "# 什么是 p 值？ \n",
    "\n",
    "p 值的定义是 如果零假设为真，观察到统计量 (或支持备择假设的更多极端) 的概率。 \n",
    "\n",
    "在这个视频中，你可以学习如何计算这类数值。这个表述中 支持备择假设的更多极端 部分决定了 p 值相关的阴影。 \n",
    "\n",
    "所以，你会得到下列情况： \n",
    "\n",
    "如果参数大于备择假设中的某个数值，为了得到 p 值，你的阴影可能是这样的： \n",
    "\n",
    "![image](https://raw.githubusercontent.com/hufe09/GitNote-Images/master/Picee/image.wltil1j64td.png)\n",
    "\n",
    "如果参数小于备择假设中的某个数值，为了得到 p 值，你的阴影可能是这样的： \n",
    "\n",
    "![image](https://raw.githubusercontent.com/hufe09/GitNote-Images/master/Picee/image.5pix3vhdkp3.png)\n",
    "\n",
    "如果你的参数不等于备择假设中的某个数值，为了得到 p 值，你的阴影可能是这样的： \n",
    "\n",
    "![image](https://raw.githubusercontent.com/hufe09/GitNote-Images/master/Picee/image.xxoxe3531mt.png)"
   ]
  },
  {
   "cell_type": "markdown",
   "metadata": {},
   "source": [
    "# 计算p值\n",
    "\n",
    "前面介绍了<a href=\"#SimulatingNull\">用零假设模拟抽样分布的值</a>。\n",
    "下面计算它的p值。"
   ]
  },
  {
   "cell_type": "markdown",
   "metadata": {},
   "source": [
    "$H_0$: $\\mu_1$ $\\leq$ $70$ \n",
    "\n",
    "$H_1$: $\\mu_1$ $>$ $70$"
   ]
  },
  {
   "cell_type": "code",
   "execution_count": 29,
   "metadata": {},
   "outputs": [],
   "source": [
    "coffee_mean = coffee_df.height.mean()"
   ]
  },
  {
   "cell_type": "code",
   "execution_count": 30,
   "metadata": {},
   "outputs": [
    {
     "data": {
      "text/plain": [
       "1.0"
      ]
     },
     "execution_count": 30,
     "metadata": {},
     "output_type": "execute_result"
    }
   ],
   "source": [
    "(null_vals > coffee_mean).mean()"
   ]
  },
  {
   "cell_type": "markdown",
   "metadata": {},
   "source": [
    "记住p值较大表示不应该抛弃零假设，在这个案例中这表明我们应该认为均值小于70，这里我们已经计算了大于样本均值的空值，p值为1，不应该抛弃零假设，这表明总体均值实际小于等于70"
   ]
  },
  {
   "cell_type": "markdown",
   "metadata": {},
   "source": [
    "$H_0$: $\\mu_1$ $\\geq$ $70$ \n",
    "\n",
    "$H_1$: $\\mu_1$ $<$ $70$"
   ]
  },
  {
   "cell_type": "code",
   "execution_count": 31,
   "metadata": {
    "scrolled": true
   },
   "outputs": [
    {
     "data": {
      "text/plain": [
       "0.0"
      ]
     },
     "execution_count": 31,
     "metadata": {},
     "output_type": "execute_result"
    }
   ],
   "source": [
    "(null_vals < coffee_mean).mean()"
   ]
  },
  {
   "cell_type": "markdown",
   "metadata": {},
   "source": [
    "p=0，这表明我们应该抛弃零假设选择对立假设，表明总体均值小于70，"
   ]
  },
  {
   "cell_type": "markdown",
   "metadata": {},
   "source": [
    "$H_0$: $\\mu_1$ $=$ $70$ \n",
    "\n",
    "$H_1$: $\\mu_1$ $\\neq$ $70$"
   ]
  },
  {
   "cell_type": "code",
   "execution_count": 32,
   "metadata": {},
   "outputs": [
    {
     "data": {
      "text/plain": [
       "0.0"
      ]
     },
     "execution_count": 32,
     "metadata": {},
     "output_type": "execute_result"
    }
   ],
   "source": [
    "null_mean = 70\n",
    "(null_vals < coffee_mean).mean() + (null_vals > null_mean + (null_mean - coffee_mean)).mean() "
   ]
  },
  {
   "cell_type": "markdown",
   "metadata": {},
   "source": [
    "所以如果这是零假设和对立假设，我们现在应该看在远离零假设的任一方向，都不等于样本均值极端的值"
   ]
  },
  {
   "cell_type": "markdown",
   "metadata": {},
   "source": [
    "这表明我们应该抛弃零假设选择对立假设，表明总体均值小于70，"
   ]
  },
  {
   "cell_type": "markdown",
   "metadata": {},
   "source": [
    "这些视频中有许多移动部件，强调一下这个过程： \n",
    "\n",
    "1. 模拟零假设中得出统计量的数值。 \n",
    "\n",
    "2. 计算你实际从数据中得到统计量的数值。 \n",
    "\n",
    "3. 对比统计量和零假设中的数值。 \n",
    "\n",
    "4. 根据备择假设，计算 **被视为极端** 空值的比例。 "
   ]
  },
  {
   "cell_type": "markdown",
   "metadata": {},
   "source": [
    "## 练习：什么是 p 值？ \n",
    "![image](https://raw.githubusercontent.com/hufe09/GitNote-Images/master/Picee/image.qpizytuipb.png)"
   ]
  },
  {
   "cell_type": "markdown",
   "metadata": {},
   "source": [
    "# 连通错误和 p 值 \n",
    "\n",
    "p 值是零假设为真时，得到统计量或更极端数值的概率。 \n",
    "\n",
    "所以，p 值小，表示零假设不正确。相反，我们的统计量可能来自不同于零假设的分布。 \n",
    "\n",
    "p 值很大时，我们可以证明统计量很可能来自零假设。所以我们无法证明拒绝零假设。 \n",
    "\n",
    "通过对比 p 值和 I 类错误阈值 ($\\alpha$)，我们可以决定选择哪个假设。 \n",
    "\n",
    "- $p$  $\\leq$ $\\alpha$ $\\Rightarrow$ 拒绝 $H_0$\n",
    "\n",
    "- $p$  $>$ $\\alpha$ $\\Rightarrow$ 不能拒绝 $H_0$ \n",
    "\n",
    "\n",
    "\n",
    "![image](https://raw.githubusercontent.com/hufe09/GitNote-Images/master/Picee/image.cao27mny5o.png)\n",
    "\n",
    "无论是在零假设还是在备择假设中，陈述时要避免出现 **接受** 这个单词。我们并不是陈述某个假设为真。相反对于 I 类错误的阈值，你根据零假设中数据的相似性做出决定。 \n",
    "\n",
    "所以，可以出现在假设检验中的措辞包括：**我们拒绝零假设** 或者 **我们不拒绝零假设**。 这有助于你最初零假设默认为真，并且如果没有收集数据，在测试最后 \"选择\" 零假设，是正确选择。 "
   ]
  },
  {
   "cell_type": "markdown",
   "metadata": {},
   "source": [
    "## 练习：连通错误和 p 值\n",
    "![image](https://raw.githubusercontent.com/hufe09/GitNote-Images/master/Picee/image.teoeqb1mcu.png)"
   ]
  },
  {
   "cell_type": "markdown",
   "metadata": {},
   "source": [
    "## 计算误差\n",
    "\n",
    "以下是两个数据集，分别代表你在本课中看到的两个示例。\n",
    "\n",
    "一个数据集是基于降落伞的一个案例，第二个是基于法律的一个案例。这两个数据集都不是基于真实的人。\n",
    "\n",
    "使用下面的问题帮你回答本页底部的测试题目。"
   ]
  },
  {
   "cell_type": "code",
   "execution_count": 33,
   "metadata": {},
   "outputs": [],
   "source": [
    "import numpy as np\n",
    "import pandas as pd\n",
    "\n",
    "jud_data = pd.read_csv('datasets/judicial_dataset_predictions.csv')\n",
    "par_data = pd.read_csv('datasets/parachute_dataset.csv')"
   ]
  },
  {
   "cell_type": "code",
   "execution_count": 34,
   "metadata": {},
   "outputs": [],
   "source": [
    "# 总错误\n",
    "total_errors = par_data[par_data['actual']!=par_data['predicted']]['actual'].count()"
   ]
  },
  {
   "cell_type": "code",
   "execution_count": 35,
   "metadata": {},
   "outputs": [
    {
     "name": "stdout",
     "output_type": "stream",
     "text": [
      "<class 'pandas.core.frame.DataFrame'>\n",
      "RangeIndex: 5829 entries, 0 to 5828\n",
      "Data columns (total 3 columns):\n",
      "parachute_id    5829 non-null int64\n",
      "actual          5829 non-null object\n",
      "predicted       5829 non-null object\n",
      "dtypes: int64(1), object(2)\n",
      "memory usage: 136.7+ KB\n"
     ]
    }
   ],
   "source": [
    "# 测试总数\n",
    "par_data.info()"
   ]
  },
  {
   "cell_type": "code",
   "execution_count": 36,
   "metadata": {},
   "outputs": [
    {
     "name": "stdout",
     "output_type": "stream",
     "text": [
      "0.039972551037913875\n"
     ]
    }
   ],
   "source": [
    "# 总错误比率\n",
    "print(total_errors / 5829)"
   ]
  },
  {
   "cell_type": "code",
   "execution_count": 37,
   "metadata": {},
   "outputs": [
    {
     "name": "stdout",
     "output_type": "stream",
     "text": [
      "0.0\n"
     ]
    }
   ],
   "source": [
    "# I 累错误比率\n",
    "errors_1 = par_data[(par_data['actual']=='innocent')&(par_data['predicted']!='innocent')]['actual'].count()\n",
    "print(errors_1/5829)"
   ]
  },
  {
   "cell_type": "code",
   "execution_count": 38,
   "metadata": {},
   "outputs": [
    {
     "name": "stdout",
     "output_type": "stream",
     "text": [
      "0.0\n"
     ]
    }
   ],
   "source": [
    "# II 累错误比率\n",
    "errors_2 = par_data[(par_data['actual']=='guilty')&(par_data['predicted']!='guilty')]['actual'].count()\n",
    "print(errors_2 / 5829)"
   ]
  },
  {
   "cell_type": "code",
   "execution_count": 39,
   "metadata": {},
   "outputs": [
    {
     "name": "stdout",
     "output_type": "stream",
     "text": [
      "1.0\n"
     ]
    }
   ],
   "source": [
    "# 预测每个人都有罪\n",
    "errors_g = par_data[par_data['actual']!='guilty']['actual'].count()\n",
    "print(errors_g / 5829)"
   ]
  },
  {
   "cell_type": "markdown",
   "metadata": {},
   "source": [
    "`1.` 通过上面，你可以看到每个数据集的实际列和预测列。使用 **jud_data** 找出数据集的误差比例，以及每种类型的误差百分比。使用你的结果来回答下面测试1中的问题。\n",
    "\n",
    "**测试题目提示:** 误差是指，任何时候，预测值不符合实际值的情况。此外，还有类型I和类型II的误差需要考虑。我们也知道我们可以通过最大化其他类型的误差来最小化某一种类型的误差。如果我们预测所有的个体都是无辜的，那么有多少有罪的人被贴上了错误的标签？同样，如果我们预测所有人都有罪，那么有多少无辜的人被贴上了错误的标签？\n",
    "\n",
    "`2.` 使用 **par_data** 找出数据集的误差比例，以及每种类型的误差百分比。使用你的结果来回答下面测试2中的问题。\n",
    "\n",
    "这些操作方法应该与上一个问题中的操作方法非常相似。"
   ]
  },
  {
   "cell_type": "markdown",
   "metadata": {},
   "source": [
    "![image](https://raw.githubusercontent.com/hufe09/GitNote-Images/master/Picee/image.uxy58tu9zrj.png)"
   ]
  },
  {
   "cell_type": "markdown",
   "metadata": {},
   "source": [
    "# 其他要考虑的事情\n",
    "## 如果我们样本很大怎么办？ \n",
    "\n",
    "解读任何统计结果 (这一点常被忽视) 的最重要一方面在于确保样本代表你感兴趣的总体。 \n",
    "\n",
    "尤其是在当今计算机时代收集数据的方式，应答偏差 非常重要，要牢记于心。2016年美国大选中，许多媒体进行的民意调查与实际民意调查存在惊人差异。你可以从 [此处](https://www.pewresearch.org/fact-tank/2016/11/09/why-2016-election-polls-missed-their-mark/) 了解反应偏差的作用。 \n"
   ]
  },
  {
   "cell_type": "markdown",
   "metadata": {},
   "source": [
    "## 假设检验与机器学习 \n",
    "\n",
    "样本容量很大时，假设检验会产生 **统计意义** 最小的发现。然而，这些发现可能根本不具有现实意义。 \n",
    "\n",
    "例如，假设你在一项针对 100 多万人的研究中发现 从统计学上来说 更多人喜欢啤酒 1，而不是啤酒 2。根据这个结果，你决定开店售卖啤酒 1。然后你发现啤酒 1 的流行度只比啤酒 2 高出 0.0002% (但是在样本容量很大的情况中，这个具有统计意义)。实际上，你应该开店售卖两种啤酒。 \n",
    "\n",
    "假设检验采用综合方法，得出基于数据的结论，因为这些检验旨在了解总体参数 (即综合的总体数值)。 \n",
    "\n",
    "另外，机器学习技巧采用个体方法得出结论，因为他们旨在预测每个特殊数据点的结果。 \n",
    "\n",
    "在这节课的最后，你将会学习机器学习的两种最基础方法：线性 回归和 逻辑 回归。"
   ]
  },
  {
   "cell_type": "markdown",
   "metadata": {},
   "source": [
    "## 如果我们需要多次检验怎么办？ \n",
    "\n",
    "如果完成多个假设检验，你的 I 类错误更加严重。为了纠正这点，通常采用 **邦弗朗尼** 校正法。这种校正法 **非常保守**，但是假如 I 类最新错误率应为实际想得到的错误率除以完成检验的数量。 \n",
    "\n",
    "所以，如果你想在 20 个假设检验中把 I 类错误率维持在 1%，**邦弗朗尼** 校正率应为 0.01/20 = 0.0005。你应该使用这个新比率，对比每 20 个检验的 p 值，做出决定。\n",
    "\n",
    "![image](https://raw.githubusercontent.com/hufe09/GitNote-Images/master/Picee/image.68ganzrj3hr.png)\n",
    "\n",
    "其他技巧 \n",
    "\n",
    "避免出现复合 I 类错误的其他技巧包括： \n",
    "\n",
    "1. [图基校正(Tukey correction)](http://www.itl.nist.gov/div898/handbook/prc/section4/prc471.htm) \n",
    "2. [Q 值](http://www.nonlinear.com/support/progenesis/comet/faq/v2.0/pq-values.aspx) "
   ]
  },
  {
   "cell_type": "markdown",
   "metadata": {},
   "source": [
    "## 如何对比置信区间和假设检验？ \n",
    "\n",
    "\n",
    "\n",
    "一个双尾假设检验（备择假设中包含$\\neq$ ）在结论方面与作为置信区间的结论相同，只要： \n",
    "\n",
    "$1 - CI = \\alpha$\n",
    "\n",
    "例如，95％置信区间将得出与假设选择的 I 型错误率为 0.05 的假设检验相同的结论，因为： \n",
    "\n",
    "$1 - 0.95 = 0.05$\n",
    "\n",
    "在备择假设是双尾检验的时候。 \n",
    "![image](https://raw.githubusercontent.com/hufe09/GitNote-Images/master/Picee/image.f7vjvesdo1u.png)\n",
    "\n",
    "视频中提到的[免费课程](https://classroom.udacity.com/courses/ud201?contentVersion=1.0.0&contentLocale=en-us)"
   ]
  },
  {
   "cell_type": "markdown",
   "metadata": {},
   "source": [
    "# Quiz: Other Things to Consider\n",
    "## 大样本的意义\n",
    "\n",
    "当我们增加样本容量时，即使是最小的差异看起来也可能变得非常显著。 \n",
    "\n",
    "为了说明这一点，请完成这个 notebook 和下面的测试题目。\n",
    "\n",
    "首先，导入库和数据。"
   ]
  },
  {
   "cell_type": "code",
   "execution_count": 40,
   "metadata": {},
   "outputs": [],
   "source": [
    "import pandas as pd\n",
    "import numpy as np\n",
    "import matplotlib.pyplot as plt\n",
    "\n",
    "%matplotlib inline\n",
    "np.random.seed(42)\n",
    "\n",
    "full_data = pd.read_csv('datasets/coffee_dataset.csv')"
   ]
  },
  {
   "cell_type": "markdown",
   "metadata": {},
   "source": [
    "`1.` 在这个案例中，假设我们想要测试 `full_data` 中所有个体的平均身高是否等于67.60英寸或 **不等于** 67.60 英寸。  首先，通过下面的 **测试 1** 来确定这些案例的零假设和备择假设。\n",
    "\n",
    "`2.` 人口平均身高是多？人口身高的标准差是多少？使用下面的代码创建一组样本数据。样本的平均身高是多少？模拟五个值的平均值的抽样分布，查看其形状并绘制一个直方图。这五次抽样的平均值的抽样分布的标准差是多少？回答下面的 **测试 2** ，确保你的答案是正确的。"
   ]
  },
  {
   "cell_type": "code",
   "execution_count": 41,
   "metadata": {},
   "outputs": [
    {
     "data": {
      "text/html": [
       "<div>\n",
       "<style scoped>\n",
       "    .dataframe tbody tr th:only-of-type {\n",
       "        vertical-align: middle;\n",
       "    }\n",
       "\n",
       "    .dataframe tbody tr th {\n",
       "        vertical-align: top;\n",
       "    }\n",
       "\n",
       "    .dataframe thead th {\n",
       "        text-align: right;\n",
       "    }\n",
       "</style>\n",
       "<table border=\"1\" class=\"dataframe\">\n",
       "  <thead>\n",
       "    <tr style=\"text-align: right;\">\n",
       "      <th></th>\n",
       "      <th>user_id</th>\n",
       "      <th>age</th>\n",
       "      <th>drinks_coffee</th>\n",
       "      <th>height</th>\n",
       "    </tr>\n",
       "  </thead>\n",
       "  <tbody>\n",
       "    <tr>\n",
       "      <th>0</th>\n",
       "      <td>4509</td>\n",
       "      <td>&lt;21</td>\n",
       "      <td>False</td>\n",
       "      <td>64.538179</td>\n",
       "    </tr>\n",
       "    <tr>\n",
       "      <th>1</th>\n",
       "      <td>1864</td>\n",
       "      <td>&gt;=21</td>\n",
       "      <td>True</td>\n",
       "      <td>65.824249</td>\n",
       "    </tr>\n",
       "    <tr>\n",
       "      <th>2</th>\n",
       "      <td>2060</td>\n",
       "      <td>&lt;21</td>\n",
       "      <td>False</td>\n",
       "      <td>71.319854</td>\n",
       "    </tr>\n",
       "    <tr>\n",
       "      <th>3</th>\n",
       "      <td>7875</td>\n",
       "      <td>&gt;=21</td>\n",
       "      <td>True</td>\n",
       "      <td>68.569404</td>\n",
       "    </tr>\n",
       "    <tr>\n",
       "      <th>4</th>\n",
       "      <td>6254</td>\n",
       "      <td>&lt;21</td>\n",
       "      <td>True</td>\n",
       "      <td>64.020226</td>\n",
       "    </tr>\n",
       "  </tbody>\n",
       "</table>\n",
       "</div>"
      ],
      "text/plain": [
       "   user_id   age  drinks_coffee     height\n",
       "0     4509   <21          False  64.538179\n",
       "1     1864  >=21           True  65.824249\n",
       "2     2060   <21          False  71.319854\n",
       "3     7875  >=21           True  68.569404\n",
       "4     6254   <21           True  64.020226"
      ]
     },
     "execution_count": 41,
     "metadata": {},
     "output_type": "execute_result"
    }
   ],
   "source": [
    "#1 \n",
    "full_data.head()"
   ]
  },
  {
   "cell_type": "code",
   "execution_count": 42,
   "metadata": {},
   "outputs": [
    {
     "data": {
      "text/plain": [
       "3.119433206550344"
      ]
     },
     "execution_count": 42,
     "metadata": {},
     "output_type": "execute_result"
    }
   ],
   "source": [
    "full_data['height'].std()"
   ]
  },
  {
   "cell_type": "code",
   "execution_count": 43,
   "metadata": {},
   "outputs": [
    {
     "name": "stdout",
     "output_type": "stream",
     "text": [
      "<class 'pandas.core.frame.DataFrame'>\n",
      "RangeIndex: 2974 entries, 0 to 2973\n",
      "Data columns (total 4 columns):\n",
      "user_id          2974 non-null int64\n",
      "age              2974 non-null object\n",
      "drinks_coffee    2974 non-null bool\n",
      "height           2974 non-null float64\n",
      "dtypes: bool(1), float64(1), int64(1), object(1)\n",
      "memory usage: 72.7+ KB\n"
     ]
    }
   ],
   "source": [
    "full_data.info()"
   ]
  },
  {
   "cell_type": "code",
   "execution_count": 44,
   "metadata": {},
   "outputs": [],
   "source": [
    "sample1 = full_data.sample(5)"
   ]
  },
  {
   "cell_type": "markdown",
   "metadata": {},
   "source": [
    "`3.` 使用问题1中的零假设和备择假设以及问题2中抽样分布的结果，模拟你在零假设中的期望平均值。使用这些模拟值来确定一个p值，做出一个关于零假设和备择假设的决定。通过下面的 **测试 3** 和 **测试 4** 来检查你的解决方案。\n",
    "\n",
    "**提示:**  [这里](https://docs.scipy.org/doc/numpy-1.13.0/reference/generated/numpy.random.normal.html) 的 Numpy 文件可以帮你完成你的解决方案。\n",
    "\n",
    "`4.` 现在，假设你从上面问题2中的样本中得到了相同的样本均值，但是样本数量是1000。对于这1000个值的平均值，你的抽样分布的新标准差是多少？此外，你的新p值是在你设定的零假设和备择假设之间选择的吗？模拟五个值的平均值的抽样分布，查看其形状并绘制一个直方图。在这里根据你的解决方案来回答下面的第二个到最后一个测试题目。\n",
    "\n",
    "**提示：**  需要注意的是，如果遇到任何困难，你可以使用测试中的解决方案，尽早找到 p 值，只需稍作更改即可获得该答案。\n",
    "\n",
    "`5.` 通过回答最后一个测试题目，回顾本节内容。"
   ]
  },
  {
   "cell_type": "code",
   "execution_count": 45,
   "metadata": {},
   "outputs": [],
   "source": [
    "means = []\n",
    "for _ in range(10000):\n",
    "    sample1 = full_data.sample(5)\n",
    "    means.append(sample1['height'].mean())"
   ]
  },
  {
   "cell_type": "code",
   "execution_count": 46,
   "metadata": {},
   "outputs": [
    {
     "data": {
      "text/plain": [
       "1.3873129885457822"
      ]
     },
     "execution_count": 46,
     "metadata": {},
     "output_type": "execute_result"
    }
   ],
   "source": [
    "np.std(means)"
   ]
  },
  {
   "cell_type": "code",
   "execution_count": 47,
   "metadata": {
    "scrolled": false
   },
   "outputs": [
    {
     "data": {
      "text/plain": [
       "(array([   9.,   65.,  346., 1016., 2096., 2852., 2257., 1067.,  260.,\n",
       "          32.]),\n",
       " array([62.0966947 , 63.10054507, 64.10439543, 65.1082458 , 66.11209617,\n",
       "        67.11594654, 68.1197969 , 69.12364727, 70.12749764, 71.131348  ,\n",
       "        72.13519837]),\n",
       " <a list of 10 Patch objects>)"
      ]
     },
     "execution_count": 47,
     "metadata": {},
     "output_type": "execute_result"
    },
    {
     "data": {
      "image/png": "[encoded data removed]",
      "text/plain": [
       "<Figure size 432x288 with 1 Axes>"
      ]
     },
     "metadata": {
      "needs_background": "light"
     },
     "output_type": "display_data"
    }
   ],
   "source": [
    "plt.hist(means)"
   ]
  },
  {
   "cell_type": "markdown",
   "metadata": {},
   "source": [
    "![image](https://raw.githubusercontent.com/hufe09/GitNote-Images/master/Picee/image.7z34424gpvm.png)"
   ]
  },
  {
   "cell_type": "markdown",
   "metadata": {},
   "source": [
    "## 多重检验\n",
    "\n",
    "在本 notebook 中，你将使用与之前使用的法律类数据集类似的数据集。但是，你不需要使用已经提供的决策，你会获得与每个人相关的 p 值。\n",
    "\n",
    "使用 notebook 和数据集中的问题回答本页底部的问题。\n",
    "\n",
    "以下是你将要使用的数据的概况："
   ]
  },
  {
   "cell_type": "code",
   "execution_count": 48,
   "metadata": {},
   "outputs": [
    {
     "data": {
      "text/html": [
       "<div>\n",
       "<style scoped>\n",
       "    .dataframe tbody tr th:only-of-type {\n",
       "        vertical-align: middle;\n",
       "    }\n",
       "\n",
       "    .dataframe tbody tr th {\n",
       "        vertical-align: top;\n",
       "    }\n",
       "\n",
       "    .dataframe thead th {\n",
       "        text-align: right;\n",
       "    }\n",
       "</style>\n",
       "<table border=\"1\" class=\"dataframe\">\n",
       "  <thead>\n",
       "    <tr style=\"text-align: right;\">\n",
       "      <th></th>\n",
       "      <th>defendant_id</th>\n",
       "      <th>actual</th>\n",
       "      <th>pvalue</th>\n",
       "    </tr>\n",
       "  </thead>\n",
       "  <tbody>\n",
       "    <tr>\n",
       "      <th>0</th>\n",
       "      <td>22574</td>\n",
       "      <td>innocent</td>\n",
       "      <td>0.294126</td>\n",
       "    </tr>\n",
       "    <tr>\n",
       "      <th>1</th>\n",
       "      <td>35637</td>\n",
       "      <td>innocent</td>\n",
       "      <td>0.417981</td>\n",
       "    </tr>\n",
       "    <tr>\n",
       "      <th>2</th>\n",
       "      <td>39919</td>\n",
       "      <td>innocent</td>\n",
       "      <td>0.177542</td>\n",
       "    </tr>\n",
       "    <tr>\n",
       "      <th>3</th>\n",
       "      <td>29610</td>\n",
       "      <td>guilty</td>\n",
       "      <td>0.015023</td>\n",
       "    </tr>\n",
       "    <tr>\n",
       "      <th>4</th>\n",
       "      <td>38273</td>\n",
       "      <td>innocent</td>\n",
       "      <td>0.075371</td>\n",
       "    </tr>\n",
       "  </tbody>\n",
       "</table>\n",
       "</div>"
      ],
      "text/plain": [
       "   defendant_id    actual    pvalue\n",
       "0         22574  innocent  0.294126\n",
       "1         35637  innocent  0.417981\n",
       "2         39919  innocent  0.177542\n",
       "3         29610    guilty  0.015023\n",
       "4         38273  innocent  0.075371"
      ]
     },
     "execution_count": 48,
     "metadata": {},
     "output_type": "execute_result"
    }
   ],
   "source": [
    "import numpy as np\n",
    "import pandas as pd\n",
    "\n",
    "df = pd.read_csv('datasets/judicial_dataset_pvalues.csv')\n",
    "df.head()"
   ]
  },
  {
   "cell_type": "markdown",
   "metadata": {},
   "source": [
    "`1.` 回想一下这个案例的零假设和备择假设。使用该信息来确定下面的 **测试1** 和 **测试 2** 的答案。\n",
    "\n",
    "`2.` 如果我们将每个个体都视为一个单一的假设检验，找到保守 Bonferroni 校正的 α （即alpha）水平，我们应该用该水平来维持5％的 I 型错误率。\n",
    "\n",
    "`3.` 如果不使用校正，I 型错误的比例是多少？如果使用矫正，I 型错误的比例是多少？\n",
    "\n",
    "使用你的答案找到下面 **测试 3** 的解决方案。\n",
    "\n",
    "`4.` 思考如何使用假设检验，以及为什么这个例子不能以这种方式使用假设检验。通过下面的 **测试 4** 检查你的答案是否正确。\n",
    "\n",
    "![image](https://raw.githubusercontent.com/hufe09/GitNote-Images/master/Picee/image.o0695wk4the.png)"
   ]
  },
  {
   "cell_type": "markdown",
   "metadata": {},
   "source": [
    "# 假设检验总结 \n",
    "\n",
    "\n",
    "1. 如何设置假设检验。学习了零假设是收集数据前我们假设正确的内容，备择假设是我们想要证明为真的内容。 \n",
    "2. 学习了 I 类错误和 II 类错误。I 类错误是最严重的错误类型，这与零假设实际为真时选择备择假设相关。 \n",
    "3. 学习了 p 值是零假设为真的情况下，观察支持备择假设的数据或更极端内容的概率。学习了利用拔靴样本得到的置信区间，可以做出与假设检验相同的决定 (在没有混淆 p 值的情况下)。 \n",
    "4. 学习了如何根据 p 值做出决定。如果 p 值小于 I 类错误阈值，你可以拒绝零假设，选择备择假设。否则，不拒绝零假设。 \n",
    "5. 学习了样本容量很大时，任何内容都具有统计意义 (最终拒绝所有零假设)，但这些聚过不具有现实意义。 \n",
    "6. 学习了完成多个假设检验时，错误会更加严重。因此使用一些校正法，确保 I 类错误率，非常重要。邦弗朗尼(Bonferroni)校正是简单且保守的一种方法，你应该用 $\\alpha$ 水平 (或 I 类错误阈值) 除以完成检验的数量。 \n",
    "\n",
    "[什么是p值 博客文章](https://rebeccaebarnes.github.io/2018/05/01/what-is-a-p-value)"
   ]
  }
 ],
 "metadata": {
  "kernelspec": {
   "display_name": "Python 3",
   "language": "python",
   "name": "python3"
  },
  "language_info": {
   "codemirror_mode": {
    "name": "ipython",
    "version": 3
   },
   "file_extension": ".py",
   "mimetype": "text/x-python",
   "name": "python",
   "nbconvert_exporter": "python",
   "pygments_lexer": "ipython3",
   "version": "3.7.3"
  },
  "toc": {
   "base_numbering": 1,
   "nav_menu": {},
   "number_sections": true,
   "sideBar": true,
   "skip_h1_title": false,
   "title_cell": "Table of Contents",
   "title_sidebar": "Contents",
   "toc_cell": false,
   "toc_position": {
    "height": "calc(100% - 180px)",
    "left": "10px",
    "top": "150px",
    "width": "384px"
   },
   "toc_section_display": true,
   "toc_window_display": true
  },
  "varInspector": {
   "cols": {
    "lenName": 16,
    "lenType": 16,
    "lenVar": 40
   },
   "kernels_config": {
    "python": {
     "delete_cmd_postfix": "",
     "delete_cmd_prefix": "del ",
     "library": "var_list.py",
     "varRefreshCmd": "print(var_dic_list())"
    },
    "r": {
     "delete_cmd_postfix": ") ",
     "delete_cmd_prefix": "rm(",
     "library": "var_list.r",
     "varRefreshCmd": "cat(var_dic_list()) "
    }
   },
   "types_to_exclude": [
    "module",
    "function",
    "builtin_function_or_method",
    "instance",
    "_Feature"
   ],
   "window_display": false
  }
 },
 "nbformat": 4,
 "nbformat_minor": 2
}
