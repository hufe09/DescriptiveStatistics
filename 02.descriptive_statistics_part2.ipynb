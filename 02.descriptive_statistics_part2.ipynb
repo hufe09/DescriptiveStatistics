{
 "cells": [
  {
   "cell_type": "markdown",
   "metadata": {},
   "source": [
    "# 描述性统计 - 第二部分"
   ]
  },
  {
   "cell_type": "markdown",
   "metadata": {},
   "source": [
    "## Measures of Spread 离散程度\n",
    "\n",
    "**离散程度**通常向我们提供我们的数据如何相互分散的概念。\n",
    "\n",
    "常见的离散程度包括：\n",
    "\n",
    "1. **极差 Range**\n",
    "2. **四分位差 Interquartile Range(IQR)**\n",
    "3. **标准差 Standard Deviation**\n",
    "4. **方差 Variance**"
   ]
  },
  {
   "cell_type": "markdown",
   "metadata": {},
   "source": [
    "## 直方图\n",
    "\n",
    "直方图对于理解定量数据的不同方面非常有用。在即将到来的概念中，您将看到直方图一直用于帮助您理解我们之前概述的关于数值数据的四个方面：\n",
    "\n",
    "- center  集中趋势\n",
    "- spread  离散程度\n",
    "- shape  形状\n",
    "- outliers  异常值 \n",
    "\n",
    "![image](https://raw.githubusercontent.com/hufe09/GitNote-Images/master/Picee/image.8l34kr7tjp7.png)"
   ]
  },
  {
   "cell_type": "markdown",
   "metadata": {},
   "source": [
    "## 五数概括法\n",
    "\n",
    "数字摘要包含5个值：\n",
    "\n",
    "1. **最小值：**数据集中的最小数字。\n",
    "2. ${Q_1}$：25％的数据低于此值。\n",
    "3. ${Q_2}$：50％的数据低于此值。\n",
    "4. ${Q_3}$：75％的数据低于此值。\n",
    "5. **最大值：**数据集中的**最大值**。\n",
    "\n",
    "在上面的视频中，我们看到计算这些值中的每一个基本上只是找到一堆不同数据集的中值。因为我们实际上是在计算一堆中位数，所以计算取决于我们是否有奇数或偶数个值。\n",
    "\n",
    "### 极差  Range\n",
    "\n",
    "极差又称全距，是最大值和最小值之间的差值。 \n",
    "\n",
    "\n",
    "### 四分位差 Measures of Spread(IQR)\n",
    "\n",
    "\n",
    "四分位差为 ${Q_3}$ 和 ${Q_1}$ 之间的差值。 \n",
    "\n",
    "![image](https://raw.githubusercontent.com/hufe09/GitNote-Images/master/Picee/image.wvwov6bqgvq.png)\n",
    "\n",
    "![image](https://raw.githubusercontent.com/hufe09/GitNote-Images/master/Picee/image.yjholoejce.png)\n"
   ]
  },
  {
   "cell_type": "markdown",
   "metadata": {},
   "source": [
    "![image](https://raw.githubusercontent.com/hufe09/GitNote-Images/master/Picee/image.o8bogec2xn9.png)"
   ]
  },
  {
   "cell_type": "markdown",
   "metadata": {},
   "source": [
    "## 标准差和方差  Standard Deviation and Variance\n",
    "\n",
    "**标准差**是最常见的数据离散程度度量之一。它的定义为**每个观察值与均值之间的平均差异**。 \n",
    "\n",
    "在上面的视频中，我们是以个人与工作场所之间的平均距离为例看的。在下一个视频中，你将看到具体如何计算。\n",
    "\n",
    "\n",
    "- 方差：是每个观测值与平均值的平均平方差。\n",
    "\n",
    "$$\n",
    "\\frac{1}{n} \\sum_{i=1}^{n}\\left(x_{i}-\\overline{x}\\right)^{2}\n",
    "$$\n",
    "\n",
    "\n",
    "- 标准差：是指每个观测值与均值之差的平均值\n",
    "\n",
    "$$\n",
    "\\sqrt{\\frac{1}{n} \\sum_{i=1}^{n}\\left(x_{i}-\\overline{x}\\right)^{2}}\n",
    "$$\n",
    "\n",
    "![image](https://raw.githubusercontent.com/hufe09/GitNote-Images/master/Picee/image.d9fxihioqsr.png)"
   ]
  },
  {
   "cell_type": "markdown",
   "metadata": {},
   "source": [
    "### 标准差与方差要点 \n",
    "\n",
    "- 方差用于比较两组不同数据的离散程度。方差较高的一组数据相比方差较低的一组数据，其分布更为广泛。但是注意，有可能只有一个（或多个）异常值提高了方差，而大多数数据实际上比较集中。 \n",
    "\n",
    "- 在比较两个数据集之间的离散程度时，每个数据集的单位必须相同。 \n",
    "\n",
    "- 当数据与货币或经济有关时，方差（或标准差）更高则表示风险越高。 \n",
    "\n",
    "- 在实践中，标准差比方差更常用，因为它使用原始数据集的单位。 \n",
    "\n",
    "### 现实世界中的使用 \n",
    "\n",
    "标准差经常用于评估金融风险，帮助确定药物在医学研究中的意义，以及测量预测类计算的结果误差，例如预测明天的降雨量或通勤时间。  "
   ]
  },
  {
   "cell_type": "markdown",
   "metadata": {},
   "source": [
    "![image](https://raw.githubusercontent.com/hufe09/GitNote-Images/master/Picee/image.w92nflq4fln.png)\n",
    "\n",
    "![image](https://raw.githubusercontent.com/hufe09/GitNote-Images/master/Picee/image.9kqbw3xfk5.png)"
   ]
  },
  {
   "cell_type": "markdown",
   "metadata": {},
   "source": [
    "## 形状 Shape\n",
    "\n",
    "### 直方图 \n",
    "\n",
    "学习如何构建**直方图**，因为这是数值数据最常用的可视化方式。 \n",
    "\n",
    "从直方图中，我们可以快速识别数据的形状，这会影响我们在之前概念中学到的所有度量。我们学了数据的分布通常为以下三种**形状**之一： \n",
    "\n",
    "**1.** **Right-skewed 右偏态** \n",
    "\n",
    "**2.** **Left-skewed 左偏态** \n",
    "\n",
    "**3.** **Symmetric 对称分布**（ frequently normally distributed 通常是正态分布） \n",
    "\n",
    "![image](https://raw.githubusercontent.com/hufe09/GitNote-Images/master/Picee/image.0w5cs60evp6.png)\n",
    "\n",
    "![右偏态](https://raw.githubusercontent.com/hufe09/GitNote-Images/master/Picee/image.ht7ddzj6dhk.png)\n",
    "\n",
    "![左偏态](https://raw.githubusercontent.com/hufe09/GitNote-Images/master/Picee/image.gxk2ztszrw.png)\n",
    "\n",
    "![image](https://raw.githubusercontent.com/hufe09/GitNote-Images/master/Picee/image.di4tlwd0gvb.png)"
   ]
  },
  {
   "cell_type": "markdown",
   "metadata": {},
   "source": [
    "### 总结 \n",
    "\n",
    "| **形状**     | **均值与中位数** | **现实世界中的应用**                                     |\n",
    "| ------------ | ---------------- | -------------------------------------------------------- |\n",
    "| 对称（正态） | 均值等于中位数   | 身高、体重、误差、降雨量                                 |\n",
    "| 右偏态       | 均值大于中位数   | 血液中残留的药物量，呼叫中心的电话间隔时间，灯泡多久熄灭 |\n",
    "| 左偏态       | 均值小于中位数   | 许多大学的成绩百分比，死亡年龄，资产价格变动             |\n",
    "\n",
    "分布中的众数基本上是直方图中最高的直条。根据直方图中的最高峰数量，可能有多个众数。 "
   ]
  },
  {
   "cell_type": "markdown",
   "metadata": {},
   "source": [
    "## 异常值 Outliers\n",
    "\n",
    "我们了解到**异常值**是明显偏离我们其余数据点的点。这会极大地影响均值和标准差等度量，而对五数概括法中的第1四分位数、中位数、第2四分位数的影响较小。 \n",
    "\n",
    "### 识别异常值 \n",
    "\n",
    "有许多不同的技术用于识别异常值。[这里](http://d-scholarship.pitt.edu/7948/1/Seo.pdf) 提供了有关此话题的一篇完整论文。我通常只是看图片上是否有可疑的状况！ "
   ]
  },
  {
   "cell_type": "markdown",
   "metadata": {},
   "source": [
    "### 处理异常值 \n",
    "当出现异常值时，我们应该考虑以下几点。 \n",
    "\n",
    "**1.** 注意到它们的存在以及对概括性度量的影响。 \n",
    "\n",
    "**2.** 如果有拼写错误 —— 删除或改正。 \n",
    "\n",
    "**3.** 了解它们为什么会存在，以及对我们要回答的关于异常值的问题的影响。 \n",
    "\n",
    "**4.** 当有异常值时，报告五数概括法的值通常能比均值和标准差等度量更好地体现异常值的存在。 \n",
    "\n",
    "**5.** 报告时要小心。知道如何提出正确的问题。 "
   ]
  },
  {
   "cell_type": "markdown",
   "metadata": {},
   "source": [
    "### 异常值处理建议 \n",
    "\n",
    "以下是我在数据集中使用列（随机变量）的准则。 \n",
    "\n",
    "**1.** 绘制你的数据以确定是否有异常值。 \n",
    "\n",
    "**2.** 通过上述方法处理异常值。 \n",
    "\n",
    "**3.** 如果无异常值，且你的数据遵循正态分布，使用均值和标准差来描述你的数据集，并报告数据为正态分布。 \n",
    "\n",
    "\n",
    "**备注：** \n",
    "\n",
    "如果你不确定你的数据是否是正态分布，有一种称为 [正态分位图 normal quantile plots](http://data.library.virginia.edu/understanding-q-q-plots/) 的图，以及类似 [Kolmogorov-Smirnov 检验](https://en.wikipedia.org/wiki/Kolmogorov–Smirnov_test) 的统计方法可以帮助你理解你的数据是否是正态分布。实现这个检验不是本课程的教学内容，但可以稍作了解。 \n",
    "\n",
    "**4.** 如果你有偏态数据或异常值，则使用五数概括法来概括你的数据并报告异常值。\n",
    "\n",
    "**5.** 报告时要小心。知道如何提出正确的问题。"
   ]
  },
  {
   "cell_type": "markdown",
   "metadata": {},
   "source": [
    "##  形状和异常值（比较分布）\n",
    "\n",
    "在下图中，我们有三个箱形图。每个箱线图是一个不同的鸢尾花：`setosa`，`versicolor`或`virginica`。在y轴上，我们给出了萼片长度。请注意，在图的底部`virginica`有一个**异常值**。因此，这里的底线不给出**最小值** ; 相反，它是由这一点提供的。\n",
    "\n",
    "\n",
    "![image](https://raw.githubusercontent.com/hufe09/GitNote-Images/master/Picee/image.n7zmfggmh7q.png)"
   ]
  },
  {
   "cell_type": "markdown",
   "metadata": {},
   "source": [
    "### 双峰形状的直方图\n",
    "![image](https://raw.githubusercontent.com/hufe09/GitNote-Images/master/Picee/image.u6k229j1qab.png)\n",
    "\n",
    "### 左偏态的箱线图，其平均值小于中位数。\n",
    "![image](https://raw.githubusercontent.com/hufe09/GitNote-Images/master/Picee/image.9op8mnb592u.png)"
   ]
  },
  {
   "cell_type": "markdown",
   "metadata": {},
   "source": [
    "## 描述统计总结 \n",
    "\n",
    "------\n",
    "\n",
    "### 变量类型\n",
    "\n",
    "到目前为止，我们已经涵盖了很多内容！我们开始将数据类型定义为**分类**`categorical`或**定量**`quantitative`。然后我们了解到，我们可以将定量变量识别为**连续**`continuous`或**离散**`discrete`。我们还发现我们可以将分类变量识别为**定类**`ordinal`或**定序**`nominal`。\n",
    "\n",
    "------\n",
    "\n",
    "### 分类变量\n",
    "\n",
    "在分析分类变量时，我们通常只会查看属于某个类别的每个**级别**的组的计数或百分比。例如，如果我们有两个**级别**的狗类：`lab`和`not lab`。我们可能会说，32％的狗是`lab`（百分比），或者我们可能会说我看到的100只狗中有32只是lab（数量）。\n",
    "\n",
    "然而，与描述定量变量相关的4个方面不用于描述分类变量。\n",
    "\n",
    "------\n",
    "\n",
    "### 定量变量\n",
    "\n",
    "然后我们了解到有四个主要方面用于描述`quantitative`变量：\n",
    "\n",
    "1. **集中趋势**\n",
    "2. **离散程度**\n",
    "3. **形状**\n",
    "4. **异常值**\n",
    "\n",
    "我们学习了集中趋势  `Center`\n",
    "\n",
    "1. **均值**\n",
    "2. **中位数**\n",
    "3. **众数**\n",
    "\n",
    "我们还研究了离散程度 `Spread`\n",
    "\n",
    "1. **极差**\n",
    "2. **四分位差**\n",
    "3. **标准差**\n",
    "4. **方差**\n",
    "\n",
    "------\n",
    "\n",
    "### 计算方差\n",
    "\n",
    "我们学习到的 **方差** 计算方法准确来讲叫做总体方差`variance`，计算公式为: \n",
    "\n",
    "$$\n",
    "\\frac{1}{n} \\sum_{i=1}^{n}\\left(x_{i}-\\overline{x}\\right)^{2}\n",
    "$$\n",
    "\n",
    "你也有可能看到下面的计算公式，它是 样本方差`sample variance` 的计算方法: \n",
    "\n",
    "$$\n",
    "\\frac{1}{\\mathbf{n}-\\mathbf{1}} \\sum_{\\mathbf{i}=\\mathbf{1}}^{\\mathbf{n}}\\left(\\mathbf{x}_{\\mathbf{i}}-\\overline{\\mathbf{x}}\\right)^{2}\n",
    "$$\n",
    "\n",
    "其原因超出了我们迄今为止所涵盖的范围，但您可以[在此处](https://stats.stackexchange.com/questions/3931/intuitive-explanation-for-dividing-by-n-1-when-calculating-standard-deviation)找到解释。\n",
    "\n",
    "### 标准差与方差\n",
    "\n",
    "标准差是方差的平方根。实际上，您通常使用标准差而不是方差。这是因为标准差与我们的原始数据共享相同的单位，而方差具有平方单位。\n",
    "\n",
    "------\n",
    "\n",
    "### 形状 shape\n",
    "\n",
    "我们学习了数据的分布通常为以下三种形状： \n",
    "\n",
    "1. 右偏态 \n",
    "\n",
    "2. 左偏态 \n",
    "\n",
    "3. 对称分布（通常是正态分布） \n",
    "\n",
    "根据与数据集的形状，某些集中趋势或离散程度度量可能更适用于概括我们的数据集。 \n",
    "\n",
    "当我们的数据遵循正态分布时，我们可以使用均值和标准差完全理解我们的数据集。 \n",
    "\n",
    "但是，如果我们的数据集是偏态分布，五数概括法（和关联的集中趋势度量）更适用于概括数据。 \n",
    "\n",
    "\n",
    "### 异常值 outliers\n",
    "\n",
    "我们学习了异常值对于均值度量的影响较大，而对中位数度量的影响较小。我们学习了应该视情况处理异常值。常用技术包括： \n",
    "\n",
    "1. 至少注意到它们的存在并确定对概括统计的影响。 \n",
    "\n",
    "2. 如果是输入错误 — 删除或改正 \n",
    "\n",
    "3. 理解它们为何存在，以及对我们想要回答的关于数据的问题的影响。 \n",
    "\n",
    "4. 当有异常值时，报告五数概括法的值通常能比均值和标准差等度量更好地体现异常值的存在。 \n",
    "\n",
    "5. 报告时要小心。知道如何提出正确的问题。 \n",
    "\n",
    "### 直方图和箱线图 \n",
    "\n",
    "我们还看了使用直方图和箱线图来可视化数值数据。使用可视化方式比使用概括统计能使我们更容易地识别异常值和数据分布的形状。"
   ]
  },
  {
   "cell_type": "markdown",
   "metadata": {},
   "source": [
    "## 描述统计与推论统计 \n",
    "### 描述统计 Descriptive statistics\n",
    "\n",
    "描述统计 是用我们在本课中谈到的度量**描述收集的数据**：集中趋势度量、离散程度度量、分布形状和异常值。我们也可以通过绘制数据图获得更好的理解。 \n",
    "\n",
    "\n",
    "### 推论统计 Inferential Statistics\n",
    "\n",
    "推论统计 **使用我们收集的数据对更大的总体得出结论**。要很好地进行推断统计，我们需要抽取一个准确地代表我们感兴趣人群的样本。 \n",
    "\n",
    "一个常用的数据收集方法是通过调查。但是，根据所提问题的类型，以及提问的方式，调查可能会有很大偏见。这是你在开始第一个项目前应该考虑的问题。 \n",
    "\n",
    "我们通过具体的例子，了解了： \n",
    "\n",
    "1. **总体** —— 我们想要研究的整个群体。 \n",
    "2. **参数** —— 描述总体的数值摘要 \n",
    "3. **样本** —— 总体的子集 \n",
    "4. **统计量** —— 描述样本的数值摘要 \n",
    "\n",
    "\n",
    "### 展望 \n",
    "\n",
    "你现已认识到了这两个统计途径之间的区别。如果你曾进行过假设检验或构建过置信区间，你就进行过推论统计。随着技术的发展，我们进行推论统计的方式也在发生变化。有很多职业道路涉及机器学习和人工智能，旨在使用收集的数据在个人层面得出关于整个群体的结论。这是一个令人兴奋的时代与空间，你正大踏步走在加入其它从业者的路上！ "
   ]
  }
 ],
 "metadata": {
  "kernelspec": {
   "display_name": "Python 3",
   "language": "python",
   "name": "python3"
  },
  "language_info": {
   "codemirror_mode": {
    "name": "ipython",
    "version": 3
   },
   "file_extension": ".py",
   "mimetype": "text/x-python",
   "name": "python",
   "nbconvert_exporter": "python",
   "pygments_lexer": "ipython3",
   "version": "3.7.3"
  },
  "toc": {
   "base_numbering": 1,
   "nav_menu": {},
   "number_sections": true,
   "sideBar": true,
   "skip_h1_title": false,
   "title_cell": "Table of Contents",
   "title_sidebar": "Contents",
   "toc_cell": false,
   "toc_position": {
    "height": "calc(100% - 180px)",
    "left": "10px",
    "top": "150px",
    "width": "174.188px"
   },
   "toc_section_display": true,
   "toc_window_display": true
  },
  "varInspector": {
   "cols": {
    "lenName": 16,
    "lenType": 16,
    "lenVar": 40
   },
   "kernels_config": {
    "python": {
     "delete_cmd_postfix": "",
     "delete_cmd_prefix": "del ",
     "library": "var_list.py",
     "varRefreshCmd": "print(var_dic_list())"
    },
    "r": {
     "delete_cmd_postfix": ") ",
     "delete_cmd_prefix": "rm(",
     "library": "var_list.r",
     "varRefreshCmd": "cat(var_dic_list()) "
    }
   },
   "types_to_exclude": [
    "module",
    "function",
    "builtin_function_or_method",
    "instance",
    "_Feature"
   ],
   "window_display": false
  }
 },
 "nbformat": 4,
 "nbformat_minor": 2
}
